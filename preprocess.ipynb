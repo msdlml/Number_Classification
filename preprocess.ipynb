{
 "cells": [
  {
   "cell_type": "markdown",
   "metadata": {},
   "source": [
    "# Digitstruct 파일 데이터 추출(to csv)"
   ]
  },
  {
   "cell_type": "code",
   "execution_count": 3,
   "metadata": {},
   "outputs": [],
   "source": [
    "import h5py\n",
    "import numpy as np\n",
    "import matplotlib.pyplot as plt\n",
    "\n",
    "from tqdm import tqdm\n",
    "import pandas as pd"
   ]
  },
  {
   "cell_type": "code",
   "execution_count": 7,
   "metadata": {},
   "outputs": [],
   "source": [
    "def get_box_data(data, index):\n",
    "    meta_data = dict()\n",
    "    meta_data['height'] = []\n",
    "    meta_data['label'] = []\n",
    "    meta_data['left'] = []\n",
    "    meta_data['top'] = []\n",
    "    meta_data['width'] = []\n",
    "\n",
    "    def print_attrs(name, obj):\n",
    "        vals = []\n",
    "        if obj.shape[0] == 1:\n",
    "            vals.append(obj[0][0])\n",
    "        else:\n",
    "            for k in range(obj.shape[0]):\n",
    "                vals.append(int(data[obj[k][0]][0][0]))\n",
    "        meta_data[name] = vals\n",
    "\n",
    "    box = data['/digitStruct/bbox'][index]\n",
    "    data[box[0]].visititems(print_attrs)\n",
    "    return meta_data"
   ]
  },
  {
   "cell_type": "code",
   "execution_count": 8,
   "metadata": {},
   "outputs": [],
   "source": [
    "mat_file = \"./train2/digitStruct.mat\""
   ]
  },
  {
   "cell_type": "code",
   "execution_count": 9,
   "metadata": {},
   "outputs": [],
   "source": [
    "def create_dateset(mat, dataset):\n",
    "    data = h5py.File(mat, 'r')  # 경로\n",
    "    df = []\n",
    "    for i in tqdm(range(len(data['/digitStruct/name']))):\n",
    "        meta_data = get_box_data(data, i)\n",
    "        num_length = len(meta_data['label'])\n",
    "        if num_length < 6:\n",
    "            dd = {'filename': '%d.png'%(i+1), 'len': num_length}\n",
    "            for i in range(5):\n",
    "                dd['num%d'%(i+1)] = -1\n",
    "                dd['bbox%d'%(i+1)] = (0, 0, 0, 0)\n",
    "            for i in range(num_length):\n",
    "                dd['num%d'%(i+1)] = int(meta_data['label'][i])\n",
    "                dd['bbox%d'%(i+1)] = (meta_data['left'][i], meta_data['top'][i], meta_data['width'][i], meta_data['height'][i])\n",
    "        df.append(dd)\n",
    "    df = pd.DataFrame(df)\n",
    "    for i in range(1, 6):\n",
    "        df.loc[df[df['num%d'%i] == 10].index, 'num%d'%i] = 0\n",
    "    for i in range(1, 6):\n",
    "        df.loc[df['num%d'%i].isnull(), 'num%d'%i] = 10\n",
    "    for i in range(1, 6):\n",
    "        for j in df['bbox%d'%i][df['bbox%d'%i].isnull()].index:\n",
    "            df.at[j, 'bbox%d'%(i+1)] = (0,0,0,0)\n",
    "\n",
    "    df = df.dropna()\n",
    "    df = df.reset_index(drop=True)\n",
    "\n",
    "    df.to_csv('./%s.csv'%dataset)"
   ]
  },
  {
   "cell_type": "code",
   "execution_count": 10,
   "metadata": {},
   "outputs": [
    {
     "name": "stderr",
     "output_type": "stream",
     "text": [
      "100%|██████████| 13068/13068 [00:26<00:00, 492.93it/s]\n"
     ]
    }
   ],
   "source": [
    "create_dateset(mat_file, \"train2\")"
   ]
  },
  {
   "cell_type": "markdown",
   "metadata": {},
   "source": [
    "# 추출한 csv 가공"
   ]
  },
  {
   "cell_type": "code",
   "execution_count": 12,
   "metadata": {},
   "outputs": [],
   "source": [
    "df = pd.read_csv(\"./train2.csv\")\n",
    "\n",
    "list = []\n",
    "\n",
    "for index, row in df.iterrows():\n",
    "  for rpt in range(1, 6):\n",
    "    if row[f\"num{rpt}\"] != -1:\n",
    "      tmp_list = []\n",
    "      tmp_list.append(row['filename'])\n",
    "      bbox = row[f\"bbox{rpt}\"].strip(\"()\").split(\", \")\n",
    "\n",
    "      tmp_list.append(int(float(bbox[3])))\n",
    "      tmp_list.append(int(float(bbox[0])))\n",
    "      tmp_list.append(int(float(bbox[1])))\n",
    "      tmp_list.append(int(float(bbox[2])))\n",
    "\n",
    "      tmp_list.append(row[f\"num{rpt}\"])\n",
    "      list.append(tmp_list)"
   ]
  },
  {
   "cell_type": "code",
   "execution_count": 13,
   "metadata": {},
   "outputs": [],
   "source": [
    "columns = ['filename','height','left','top','width' ,'label']\n",
    "\n",
    "processed_df = pd.DataFrame(list , columns=columns)"
   ]
  },
  {
   "cell_type": "code",
   "execution_count": 15,
   "metadata": {},
   "outputs": [],
   "source": [
    "processed_df.to_csv('./t2.csv')"
   ]
  },
  {
   "cell_type": "markdown",
   "metadata": {},
   "source": [
    "# CSV파일과 이미지를 통해 이미지 데이터(32x32) 추출하기"
   ]
  },
  {
   "cell_type": "code",
   "execution_count": null,
   "metadata": {},
   "outputs": [],
   "source": [
    "from PIL import Image\n",
    "import pandas as pd\n",
    "import numpy as np\n",
    "\n",
    "data = pd.read_csv(\"t2.csv\")\n",
    "loc = \"train2\"  # 이미지 폴더 경로\n",
    "\n",
    "\n",
    "def get_data(df, loc):\n",
    "\n",
    "  x_data = []\n",
    "  t_data = []\n",
    "\n",
    "  for index, row in df.iterrows():\n",
    "    # csv파일의 데이터들을 분류\n",
    "    img = row[\"filename\"]\n",
    "    left = row[\"left\"]\n",
    "    upper = row[\"top\"]\n",
    "    right = left + row[\"width\"]\n",
    "    lower = upper + row[\"height\"]\n",
    "    number = row[\"label\"]\n",
    "\n",
    "    image = Image.open(f\"{loc}/{img}\")  # 이미지 불러오기\n",
    "    num_img = image.crop((left, upper, right, lower))  # 이미지에서 숫자영역 크롭\n",
    "    resize_img = num_img.resize((32, 32))  # 크롭된 이미지 리사이징(32, 32)\n",
    "    img_data = np.array(resize_img)  # np array 픽셀 데이터로 변환\n",
    "\n",
    "    x_data.append(img_data)\n",
    "    t_data.append(number)\n",
    "\n",
    "  x_data = np.array(x_data).astype('int64')\n",
    "  t_data = np.array(t_data).astype('int64')\n",
    "\n",
    "  return x_data, t_data\n",
    "\n",
    "x_data, t_data = get_data(data,loc)\n",
    "\n",
    "x_data.shape\n"
   ]
  },
  {
   "cell_type": "code",
   "execution_count": 17,
   "metadata": {},
   "outputs": [],
   "source": [
    "np.save('x_data2.npy', x_data)\n",
    "np.save('t_data2.npy', t_data)"
   ]
  },
  {
   "cell_type": "markdown",
   "metadata": {},
   "source": [
    "------"
   ]
  },
  {
   "cell_type": "code",
   "execution_count": 5,
   "metadata": {},
   "outputs": [],
   "source": [
    "x1 = np.load('x_data_all.npy')\n",
    "x2 = np.load('x_data2.npy')\n",
    "\n",
    "t1 = np.load('t_data_all.npy')\n",
    "t2 = np.load('t_data2.npy')"
   ]
  },
  {
   "cell_type": "code",
   "execution_count": 6,
   "metadata": {},
   "outputs": [],
   "source": [
    "x_con = np.concatenate((x1, x2), axis=0)\n",
    "t_con = np.concatenate((t1, t2), axis=0)"
   ]
  },
  {
   "cell_type": "code",
   "execution_count": 7,
   "metadata": {},
   "outputs": [
    {
     "name": "stdout",
     "output_type": "stream",
     "text": [
      "(99286, 32, 32, 3)\n",
      "(99286,)\n"
     ]
    }
   ],
   "source": [
    "print(x_con.shape)\n",
    "print(t_con.shape)"
   ]
  },
  {
   "cell_type": "code",
   "execution_count": 8,
   "metadata": {},
   "outputs": [],
   "source": [
    "np.save('x_concat.npy', x_con)\n",
    "np.save('t_concat.npy', t_con)"
   ]
  }
 ],
 "metadata": {
  "kernelspec": {
   "display_name": "dl",
   "language": "python",
   "name": "python3"
  },
  "language_info": {
   "codemirror_mode": {
    "name": "ipython",
    "version": 3
   },
   "file_extension": ".py",
   "mimetype": "text/x-python",
   "name": "python",
   "nbconvert_exporter": "python",
   "pygments_lexer": "ipython3",
   "version": "3.9.18"
  }
 },
 "nbformat": 4,
 "nbformat_minor": 2
}
