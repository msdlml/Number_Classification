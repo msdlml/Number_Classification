{
  "cells": [
    {
      "cell_type": "markdown",
      "metadata": {
        "id": "6a3Z9CJ8E0jX"
      },
      "source": [
        "# Street View House Numbers Classification"
      ]
    },
    {
      "cell_type": "markdown",
      "metadata": {
        "id": "fPjlcX_kE0jc"
      },
      "source": [
        "The Street View House Numbers (SVHN) dataset is one of the most popular benchmarks for object recognition tasks in academic papers. The images were obtained from house numbers in Google Street View images, are hosted by Stanford University and are very similar in philosophy with the MNIST dataset. However, the original purpose of this dataset is to solve a harder problem: that of recognizing digits and numbers in natural scene images."
      ]
    },
    {
      "cell_type": "markdown",
      "metadata": {
        "id": "e_sqGCP5E0jd"
      },
      "source": [
        "The data of the Street View House Numbers dataset, which can originally be found [here](http://ufldl.stanford.edu/housenumbers) are originally in .mat, i.e. files which can be best processed with MATLAB; thus, some preprocessing is required (see section 2). It is important to note that the data are divided into two formats and in this particular kernel we are going to use **Format 2**:\n",
        "\n",
        "- *Format 1*: The original, variable-resolution colored house-number images with character level bounding boxes.\n",
        "- *Format 2*: The cropped digits (32x32 pixels) which follow the philosophy of the MNIST dataset more closely, but also contain some distracting digits to the sides of the digit of interest."
      ]
    },
    {
      "cell_type": "markdown",
      "metadata": {
        "id": "Cj1vbjvuE0jf"
      },
      "source": [
        "## 1. Imports"
      ]
    },
    {
      "cell_type": "code",
      "execution_count": 1,
      "metadata": {
        "_cell_guid": "b1076dfc-b9ad-4769-8c92-a6c4dae69d19",
        "_uuid": "8f2839f25d086af736a60e9eeb907d3b93b6e0e5",
        "id": "8MprcfYQE0jf"
      },
      "outputs": [],
      "source": [
        "import numpy as np\n",
        "import keras\n",
        "import seaborn as sns\n",
        "from matplotlib import pyplot as plt\n",
        "from scipy.io import loadmat\n",
        "from sklearn.model_selection import train_test_split\n",
        "from sklearn.preprocessing import LabelBinarizer\n",
        "from sklearn.metrics import confusion_matrix\n",
        "from keras.preprocessing.image import ImageDataGenerator\n",
        "%matplotlib inline"
      ]
    },
    {
      "cell_type": "code",
      "execution_count": null,
      "metadata": {
        "id": "iipT1lvLE0ji"
      },
      "outputs": [],
      "source": [
        "# Set random state\n",
        "\n",
        "np.random.seed(20)"
      ]
    },
    {
      "cell_type": "code",
      "execution_count": null,
      "metadata": {
        "id": "IX2OwqMOFNTf"
      },
      "outputs": [],
      "source": [
        "from google.colab import drive\n",
        "drive.mount('/content/drive')"
      ]
    },
    {
      "cell_type": "markdown",
      "metadata": {
        "_cell_guid": "79c7e3d0-c299-4dcb-8224-4455121ee9b0",
        "_uuid": "d629ff2d2480ee46fbb7e2d37f6b5fab8052498a",
        "collapsed": true,
        "id": "uyCXCqdZE0ji"
      },
      "source": [
        "## 2. Loading and preprocessing"
      ]
    },
    {
      "cell_type": "code",
      "execution_count": null,
      "metadata": {
        "id": "A9rR1ZixE0jj"
      },
      "outputs": [],
      "source": [
        "# Load the data\n",
        "\n",
        "train_raw = loadmat('/content/drive/MyDrive/Notebooks/Datathon/data/train_32x32.mat')\n",
        "test_raw = loadmat('/content/drive/MyDrive/Notebooks/Datathon/data/test_32x32.mat')"
      ]
    },
    {
      "cell_type": "code",
      "execution_count": null,
      "metadata": {
        "id": "HwPGWBtoE0jk"
      },
      "outputs": [],
      "source": [
        "# Load images and labels\n",
        "\n",
        "train_images = np.array(train_raw['X'])\n",
        "test_images = np.array(test_raw['X'])\n",
        "\n",
        "train_labels = train_raw['y']\n",
        "test_labels = test_raw['y']"
      ]
    },
    {
      "cell_type": "code",
      "execution_count": null,
      "metadata": {
        "colab": {
          "base_uri": "https://localhost:8080/"
        },
        "id": "CxXdQ9s4E0jk",
        "outputId": "fd2b66a9-d12a-491d-b14b-9917f31ca78b"
      },
      "outputs": [
        {
          "name": "stdout",
          "output_type": "stream",
          "text": [
            "(32, 32, 3, 73257)\n",
            "(32, 32, 3, 26032)\n"
          ]
        }
      ],
      "source": [
        "# Check the shape of the data\n",
        "\n",
        "print(train_images.shape)\n",
        "print(test_images.shape)"
      ]
    },
    {
      "cell_type": "code",
      "execution_count": null,
      "metadata": {
        "colab": {
          "base_uri": "https://localhost:8080/"
        },
        "id": "3e_mn3XTE0jl",
        "outputId": "c6840ffa-e627-48a7-ce71-9a27d266fd74"
      },
      "outputs": [
        {
          "name": "stdout",
          "output_type": "stream",
          "text": [
            "(73257, 32, 32, 3)\n",
            "(26032, 32, 32, 3)\n"
          ]
        }
      ],
      "source": [
        "# Fix the axes of the images\n",
        "\n",
        "train_images = np.moveaxis(train_images, -1, 0)\n",
        "test_images = np.moveaxis(test_images, -1, 0)\n",
        "\n",
        "print(train_images.shape)\n",
        "print(test_images.shape)"
      ]
    },
    {
      "cell_type": "code",
      "execution_count": 1,
      "metadata": {
        "colab": {
          "base_uri": "https://localhost:8080/",
          "height": 750
        },
        "id": "aVow0m0jSErb",
        "outputId": "2c7cdddc-f629-44ec-a742-9edb42c351f5"
      },
      "outputs": [
        {
          "ename": "NameError",
          "evalue": "name 'train_images' is not defined",
          "output_type": "error",
          "traceback": [
            "\u001b[1;31m---------------------------------------------------------------------------\u001b[0m",
            "\u001b[1;31mNameError\u001b[0m                                 Traceback (most recent call last)",
            "Cell \u001b[1;32mIn[1], line 5\u001b[0m\n\u001b[0;32m      2\u001b[0m \u001b[38;5;28;01mimport\u001b[39;00m \u001b[38;5;21;01mmatplotlib\u001b[39;00m\u001b[38;5;21;01m.\u001b[39;00m\u001b[38;5;21;01mpyplot\u001b[39;00m \u001b[38;5;28;01mas\u001b[39;00m \u001b[38;5;21;01mplt\u001b[39;00m\n\u001b[0;32m      4\u001b[0m \u001b[38;5;66;03m# 랜덤한 인덱스 12개 선택\u001b[39;00m\n\u001b[1;32m----> 5\u001b[0m random_indices \u001b[38;5;241m=\u001b[39m np\u001b[38;5;241m.\u001b[39mrandom\u001b[38;5;241m.\u001b[39mchoice(\u001b[38;5;28mlen\u001b[39m(\u001b[43mtrain_images\u001b[49m), size\u001b[38;5;241m=\u001b[39m\u001b[38;5;241m12\u001b[39m, replace\u001b[38;5;241m=\u001b[39m\u001b[38;5;28;01mFalse\u001b[39;00m)\n\u001b[0;32m      7\u001b[0m \u001b[38;5;66;03m# 선택된 이미지와 라벨을 3행 4열의 그리드에 출력\u001b[39;00m\n\u001b[0;32m      8\u001b[0m plt\u001b[38;5;241m.\u001b[39mfigure(figsize\u001b[38;5;241m=\u001b[39m(\u001b[38;5;241m12\u001b[39m, \u001b[38;5;241m9\u001b[39m))\n",
            "\u001b[1;31mNameError\u001b[0m: name 'train_images' is not defined"
          ]
        }
      ],
      "source": [
        "import numpy as np\n",
        "import matplotlib.pyplot as plt\n",
        "\n",
        "# 랜덤한 인덱스 12개 선택\n",
        "random_indices = np.random.choice(len(train_images), size=12, replace=False)\n",
        "\n",
        "# 선택된 이미지와 라벨을 3행 4열의 그리드에 출력\n",
        "plt.figure(figsize=(12, 9))\n",
        "for i, index in enumerate(random_indices):\n",
        "    plt.subplot(3, 4, i + 1)\n",
        "    plt.imshow(train_images[index])\n",
        "    plt.title(f\"Label: {train_labels[index]}\")\n",
        "    plt.axis('off')\n",
        "plt.show()\n"
      ]
    },
    {
      "cell_type": "code",
      "execution_count": null,
      "metadata": {
        "colab": {
          "base_uri": "https://localhost:8080/",
          "height": 448
        },
        "id": "BXJgo6iGE0jl",
        "outputId": "953da6a4-d2bc-4a56-a108-1445622302ef"
      },
      "outputs": [
        {
          "data": {
            "image/png": "[encoded data removed]",
            "text/plain": [
              "<Figure size 640x480 with 1 Axes>"
            ]
          },
          "metadata": {},
          "output_type": "display_data"
        },
        {
          "name": "stdout",
          "output_type": "stream",
          "text": [
            "Label:  [5]\n"
          ]
        }
      ],
      "source": [
        "# Plot a random image and its label\n",
        "\n",
        "plt.imshow(train_images[13529])\n",
        "plt.show()\n",
        "\n",
        "print('Label: ', train_labels[13529])"
      ]
    },
    {
      "cell_type": "code",
      "execution_count": null,
      "metadata": {
        "id": "CxRt2O4gE0jl"
      },
      "outputs": [],
      "source": [
        "# Convert train and test images into 'float64' type\n",
        "\n",
        "train_images = train_images.astype('float64')\n",
        "test_images = test_images.astype('float64')"
      ]
    },
    {
      "cell_type": "code",
      "execution_count": null,
      "metadata": {
        "id": "cXeF0tbbE0jl"
      },
      "outputs": [],
      "source": [
        "# Convert train and test labels into 'int64' type\n",
        "\n",
        "train_labels = train_labels.astype('int64')\n",
        "test_labels = test_labels.astype('int64')"
      ]
    },
    {
      "cell_type": "code",
      "execution_count": null,
      "metadata": {
        "colab": {
          "base_uri": "https://localhost:8080/"
        },
        "id": "mzwJ9l8NE0jm",
        "outputId": "cc8b6527-ec2a-45ce-b37b-e594d3ea25bd"
      },
      "outputs": [
        {
          "name": "stdout",
          "output_type": "stream",
          "text": [
            "Min: 0.0, Max: 255.0\n"
          ]
        }
      ],
      "source": [
        "# Normalize the images data\n",
        "\n",
        "print('Min: {}, Max: {}'.format(train_images.min(), train_images.max()))\n",
        "\n",
        "train_images /= 255.0\n",
        "test_images /= 255.0"
      ]
    },
    {
      "cell_type": "code",
      "execution_count": null,
      "metadata": {
        "id": "jKBGiU5CE0jm"
      },
      "outputs": [],
      "source": [
        "# One-hot encoding of train and test labels\n",
        "\n",
        "lb = LabelBinarizer()\n",
        "train_labels = lb.fit_transform(train_labels)\n",
        "test_labels = lb.fit_transform(test_labels)"
      ]
    },
    {
      "cell_type": "code",
      "execution_count": null,
      "metadata": {
        "id": "WG6E3cULE0jm"
      },
      "outputs": [],
      "source": [
        "# Split train data into train and validation sets\n",
        "\n",
        "X_train, X_val, y_train, y_val = train_test_split(train_images, train_labels,\n",
        "                                                  test_size=0.15, random_state=22)"
      ]
    },
    {
      "cell_type": "code",
      "execution_count": null,
      "metadata": {
        "colab": {
          "base_uri": "https://localhost:8080/"
        },
        "id": "7otJomZUE0jm",
        "outputId": "476cecd5-4a89-454b-e9ed-bc5dc55f2285"
      },
      "outputs": [
        {
          "data": {
            "text/plain": [
              "(10989, 10)"
            ]
          },
          "execution_count": 70,
          "metadata": {},
          "output_type": "execute_result"
        }
      ],
      "source": [
        "y_val.shape"
      ]
    },
    {
      "cell_type": "markdown",
      "metadata": {
        "id": "bL-PIhp6E0jn"
      },
      "source": [
        "## 3. CNN model"
      ]
    },
    {
      "cell_type": "markdown",
      "metadata": {
        "id": "xG15b1bTE0jn"
      },
      "source": [
        "In order to get more robust results out of our model, we are going to augment the images in the dataset, by randomly rotating them, zooming them in and out, shifting them up and down (**IMPORTANT NOTE:** It is best that we do not shift them horizontally, since there are also distracting digits in the images), shifting their channels and shearing them."
      ]
    },
    {
      "cell_type": "code",
      "execution_count": null,
      "metadata": {
        "id": "GAL9FN9uE0jn"
      },
      "outputs": [],
      "source": [
        "# Data augmentation\n",
        "\n",
        "datagen = ImageDataGenerator(rotation_range=8,\n",
        "                             zoom_range=[0.95, 1.05],\n",
        "                             height_shift_range=0.10,\n",
        "                             shear_range=0.15)"
      ]
    },
    {
      "cell_type": "markdown",
      "metadata": {
        "id": "wJHfD_wyE0jn"
      },
      "source": [
        "In order to determine a good learning rate for the optimizer of our model (here, we use the AMSGrad variant of the Adam optimizer), we set a callback in an auxillary model which will gradually increase the learning rate of the optimizer."
      ]
    },
    {
      "cell_type": "code",
      "execution_count": null,
      "metadata": {
        "colab": {
          "base_uri": "https://localhost:8080/"
        },
        "id": "f1FYBBRYE0jo",
        "outputId": "13bd14cc-301e-4073-cbc0-29e7689c667a"
      },
      "outputs": [
        {
          "name": "stderr",
          "output_type": "stream",
          "text": [
            "WARNING:absl:`lr` is deprecated in Keras optimizer, please use `learning_rate` or use the legacy optimizer, e.g.,tf.keras.optimizers.legacy.Adam.\n"
          ]
        }
      ],
      "source": [
        "# Define auxillary model\n",
        "\n",
        "keras.backend.clear_session()\n",
        "\n",
        "aux_model = keras.Sequential([\n",
        "    keras.layers.Conv2D(32, (3, 3), padding='same',\n",
        "                           activation='relu',\n",
        "                           input_shape=(32, 32, 3)),\n",
        "    keras.layers.BatchNormalization(),\n",
        "    keras.layers.Conv2D(32, (3, 3), padding='same',\n",
        "                        activation='relu'),\n",
        "    keras.layers.MaxPooling2D((2, 2)),\n",
        "    keras.layers.Dropout(0.3),\n",
        "\n",
        "    keras.layers.Conv2D(64, (3, 3), padding='same',\n",
        "                           activation='relu'),\n",
        "    keras.layers.BatchNormalization(),\n",
        "    keras.layers.Conv2D(64, (3, 3), padding='same',\n",
        "                        activation='relu'),\n",
        "    keras.layers.MaxPooling2D((2, 2)),\n",
        "    keras.layers.Dropout(0.3),\n",
        "\n",
        "    keras.layers.Conv2D(128, (3, 3), padding='same',\n",
        "                           activation='relu'),\n",
        "    keras.layers.BatchNormalization(),\n",
        "    keras.layers.Conv2D(128, (3, 3), padding='same',\n",
        "                        activation='relu'),\n",
        "    keras.layers.MaxPooling2D((2, 2)),\n",
        "    keras.layers.Dropout(0.3),\n",
        "\n",
        "    keras.layers.Flatten(),\n",
        "    keras.layers.Dense(128, activation='relu'),\n",
        "    keras.layers.Dropout(0.4),\n",
        "    keras.layers.Dense(10,  activation='softmax')\n",
        "])\n",
        "\n",
        "lr_schedule = keras.callbacks.LearningRateScheduler(\n",
        "              lambda epoch: 1e-4 * 10**(epoch / 10))\n",
        "optimizer = keras.optimizers.Adam(lr=1e-4, amsgrad=True)\n",
        "aux_model.compile(optimizer=optimizer,\n",
        "                  loss='categorical_crossentropy',\n",
        "                 metrics=['accuracy'])"
      ]
    },
    {
      "cell_type": "code",
      "execution_count": null,
      "metadata": {
        "colab": {
          "base_uri": "https://localhost:8080/"
        },
        "id": "A0BWp9D1E0jo",
        "outputId": "2f0395b2-9bb2-4996-ce63-a194ae37a63a"
      },
      "outputs": [
        {
          "name": "stderr",
          "output_type": "stream",
          "text": [
            "<ipython-input-17-887a6e883c21>:3: UserWarning: `Model.fit_generator` is deprecated and will be removed in a future version. Please use `Model.fit`, which supports generators.\n",
            "  history = aux_model.fit_generator(datagen.flow(X_train, y_train, batch_size=128),\n"
          ]
        },
        {
          "name": "stdout",
          "output_type": "stream",
          "text": [
            "Epoch 1/30\n",
            "487/487 [==============================] - 55s 95ms/step - loss: 2.3209 - accuracy: 0.1590 - val_loss: 2.2297 - val_accuracy: 0.1947 - lr: 1.0000e-04\n",
            "Epoch 2/30\n",
            "487/487 [==============================] - 46s 94ms/step - loss: 2.0999 - accuracy: 0.2456 - val_loss: 1.4265 - val_accuracy: 0.5475 - lr: 1.2589e-04\n",
            "Epoch 3/30\n",
            "487/487 [==============================] - 43s 88ms/step - loss: 1.3153 - accuracy: 0.5582 - val_loss: 0.6761 - val_accuracy: 0.7971 - lr: 1.5849e-04\n",
            "Epoch 4/30\n",
            "487/487 [==============================] - 45s 92ms/step - loss: 0.8995 - accuracy: 0.7124 - val_loss: 0.4701 - val_accuracy: 0.8608 - lr: 1.9953e-04\n",
            "Epoch 5/30\n",
            "487/487 [==============================] - 43s 88ms/step - loss: 0.7096 - accuracy: 0.7778 - val_loss: 0.3623 - val_accuracy: 0.8921 - lr: 2.5119e-04\n",
            "Epoch 6/30\n",
            "487/487 [==============================] - 43s 89ms/step - loss: 0.6010 - accuracy: 0.8173 - val_loss: 0.3468 - val_accuracy: 0.8967 - lr: 3.1623e-04\n",
            "Epoch 7/30\n",
            "487/487 [==============================] - 43s 89ms/step - loss: 0.5183 - accuracy: 0.8445 - val_loss: 0.3002 - val_accuracy: 0.9123 - lr: 3.9811e-04\n",
            "Epoch 8/30\n",
            "487/487 [==============================] - 45s 93ms/step - loss: 0.4689 - accuracy: 0.8617 - val_loss: 0.2798 - val_accuracy: 0.9186 - lr: 5.0119e-04\n",
            "Epoch 9/30\n",
            "487/487 [==============================] - 43s 89ms/step - loss: 0.4253 - accuracy: 0.8756 - val_loss: 0.2663 - val_accuracy: 0.9210 - lr: 6.3096e-04\n",
            "Epoch 10/30\n",
            "487/487 [==============================] - 44s 89ms/step - loss: 0.3974 - accuracy: 0.8836 - val_loss: 0.2551 - val_accuracy: 0.9301 - lr: 7.9433e-04\n",
            "Epoch 11/30\n",
            "487/487 [==============================] - 45s 93ms/step - loss: 0.3766 - accuracy: 0.8909 - val_loss: 0.2542 - val_accuracy: 0.9296 - lr: 0.0010\n",
            "Epoch 12/30\n",
            "487/487 [==============================] - 43s 88ms/step - loss: 0.3628 - accuracy: 0.8941 - val_loss: 0.3296 - val_accuracy: 0.9030 - lr: 0.0013\n",
            "Epoch 13/30\n",
            "487/487 [==============================] - 43s 88ms/step - loss: 0.3606 - accuracy: 0.8953 - val_loss: 0.2496 - val_accuracy: 0.9283 - lr: 0.0016\n",
            "Epoch 14/30\n",
            "487/487 [==============================] - 44s 91ms/step - loss: 0.3541 - accuracy: 0.8985 - val_loss: 0.2750 - val_accuracy: 0.9244 - lr: 0.0020\n",
            "Epoch 15/30\n",
            "487/487 [==============================] - 43s 89ms/step - loss: 0.3570 - accuracy: 0.8979 - val_loss: 0.2619 - val_accuracy: 0.9273 - lr: 0.0025\n",
            "Epoch 16/30\n",
            "487/487 [==============================] - 43s 89ms/step - loss: 0.3537 - accuracy: 0.9000 - val_loss: 0.2677 - val_accuracy: 0.9229 - lr: 0.0032\n",
            "Epoch 17/30\n",
            "487/487 [==============================] - 44s 91ms/step - loss: 0.3615 - accuracy: 0.8972 - val_loss: 0.2956 - val_accuracy: 0.9239 - lr: 0.0040\n",
            "Epoch 18/30\n",
            "487/487 [==============================] - 43s 88ms/step - loss: 0.3728 - accuracy: 0.8942 - val_loss: 0.2369 - val_accuracy: 0.9358 - lr: 0.0050\n",
            "Epoch 19/30\n",
            "487/487 [==============================] - 43s 88ms/step - loss: 0.3658 - accuracy: 0.8957 - val_loss: 0.2971 - val_accuracy: 0.9180 - lr: 0.0063\n",
            "Epoch 20/30\n",
            "487/487 [==============================] - 43s 88ms/step - loss: 0.3821 - accuracy: 0.8933 - val_loss: 0.2922 - val_accuracy: 0.9231 - lr: 0.0079\n",
            "Epoch 21/30\n",
            "487/487 [==============================] - 43s 88ms/step - loss: 0.3902 - accuracy: 0.8907 - val_loss: 0.2691 - val_accuracy: 0.9278 - lr: 0.0100\n",
            "Epoch 22/30\n",
            "487/487 [==============================] - 44s 90ms/step - loss: 0.4121 - accuracy: 0.8831 - val_loss: 0.4304 - val_accuracy: 0.8717 - lr: 0.0126\n",
            "Epoch 23/30\n",
            "487/487 [==============================] - 43s 88ms/step - loss: 0.4844 - accuracy: 0.8638 - val_loss: 0.3056 - val_accuracy: 0.9186 - lr: 0.0158\n",
            "Epoch 24/30\n",
            "487/487 [==============================] - 43s 88ms/step - loss: 0.6566 - accuracy: 0.8166 - val_loss: 0.6901 - val_accuracy: 0.7950 - lr: 0.0200\n",
            "Epoch 25/30\n",
            "487/487 [==============================] - 43s 88ms/step - loss: 1.5482 - accuracy: 0.4976 - val_loss: 2.2337 - val_accuracy: 0.1949 - lr: 0.0251\n",
            "Epoch 26/30\n",
            "487/487 [==============================] - 43s 88ms/step - loss: 2.2393 - accuracy: 0.1880 - val_loss: 2.2357 - val_accuracy: 0.1949 - lr: 0.0316\n",
            "Epoch 27/30\n",
            "487/487 [==============================] - 43s 88ms/step - loss: 2.2405 - accuracy: 0.1882 - val_loss: 2.2332 - val_accuracy: 0.1949 - lr: 0.0398\n",
            "Epoch 28/30\n",
            "487/487 [==============================] - 43s 89ms/step - loss: 2.2399 - accuracy: 0.1879 - val_loss: 2.2365 - val_accuracy: 0.1949 - lr: 0.0501\n",
            "Epoch 29/30\n",
            "487/487 [==============================] - 42s 87ms/step - loss: 2.2418 - accuracy: 0.1877 - val_loss: 2.2354 - val_accuracy: 0.1949 - lr: 0.0631\n",
            "Epoch 30/30\n",
            "487/487 [==============================] - 42s 86ms/step - loss: 2.2418 - accuracy: 0.1877 - val_loss: 2.2457 - val_accuracy: 0.1431 - lr: 0.0794\n"
          ]
        }
      ],
      "source": [
        "# Fit model in order to determine best learning rate\n",
        "\n",
        "history = aux_model.fit_generator(datagen.flow(X_train, y_train, batch_size=128),\n",
        "                              epochs=30, validation_data=(X_val, y_val),\n",
        "                              callbacks=[lr_schedule])"
      ]
    },
    {
      "cell_type": "code",
      "execution_count": null,
      "metadata": {
        "colab": {
          "base_uri": "https://localhost:8080/",
          "height": 459
        },
        "id": "XsS8pPLdE0jo",
        "outputId": "4c8d65a9-9472-48cd-9585-9e1d117e2500"
      },
      "outputs": [
        {
          "data": {
            "image/png": "[encoded data removed]",
            "text/plain": [
              "<Figure size 640x480 with 1 Axes>"
            ]
          },
          "metadata": {},
          "output_type": "display_data"
        }
      ],
      "source": [
        "# Plot Learning Rate vs. Loss\n",
        "\n",
        "plt.semilogx(history.history['lr'], history.history['loss'])\n",
        "plt.axis([1e-4, 1e-1, 0, 4])\n",
        "plt.xlabel('Learning Rate')\n",
        "plt.ylabel('Training Loss')\n",
        "plt.show()"
      ]
    },
    {
      "cell_type": "markdown",
      "metadata": {
        "id": "4Z56IewwE0jo"
      },
      "source": [
        "We can see that the loss follows a very specific trajectory: a rapid drop followed by a relatively flat line which shoots back up after a certain point. Thus, it is better to choose a learning rate in the region where the loss is stable; a reasonable choice would be **lr = 0.01** (or 1e-3)."
      ]
    },
    {
      "cell_type": "code",
      "execution_count": null,
      "metadata": {
        "colab": {
          "base_uri": "https://localhost:8080/"
        },
        "id": "vIB0l_ZgE0jp",
        "outputId": "25d5acda-f067-4aaf-9f56-b9934218cb07"
      },
      "outputs": [
        {
          "name": "stderr",
          "output_type": "stream",
          "text": [
            "WARNING:absl:`lr` is deprecated in Keras optimizer, please use `learning_rate` or use the legacy optimizer, e.g.,tf.keras.optimizers.legacy.Adam.\n"
          ]
        }
      ],
      "source": [
        "# Define actual model\n",
        "\n",
        "keras.backend.clear_session()\n",
        "\n",
        "model = keras.Sequential([\n",
        "    keras.layers.Conv2D(32, (3, 3), padding='same',\n",
        "                           activation='relu',\n",
        "                           input_shape=(32, 32, 3)),\n",
        "    keras.layers.BatchNormalization(),\n",
        "    keras.layers.Conv2D(32, (3, 3), padding='same',\n",
        "                        activation='relu'),\n",
        "    keras.layers.MaxPooling2D((2, 2)),\n",
        "    keras.layers.Dropout(0.3),\n",
        "\n",
        "    keras.layers.Conv2D(64, (3, 3), padding='same',\n",
        "                           activation='relu'),\n",
        "    keras.layers.BatchNormalization(),\n",
        "    keras.layers.Conv2D(64, (3, 3), padding='same',\n",
        "                        activation='relu'),\n",
        "    keras.layers.MaxPooling2D((2, 2)),\n",
        "    keras.layers.Dropout(0.3),\n",
        "\n",
        "    keras.layers.Conv2D(128, (3, 3), padding='same',\n",
        "                           activation='relu'),\n",
        "    keras.layers.BatchNormalization(),\n",
        "    keras.layers.Conv2D(128, (3, 3), padding='same',\n",
        "                        activation='relu'),\n",
        "    keras.layers.MaxPooling2D((2, 2)),\n",
        "    keras.layers.Dropout(0.3),\n",
        "\n",
        "    keras.layers.Flatten(),\n",
        "    keras.layers.Dense(128, activation='relu'),\n",
        "    keras.layers.Dropout(0.4),\n",
        "    keras.layers.Dense(10,  activation='softmax')\n",
        "])\n",
        "\n",
        "early_stopping = keras.callbacks.EarlyStopping(patience=8)\n",
        "optimizer = keras.optimizers.Adam(lr=1e-3, amsgrad=True)\n",
        "model_checkpoint = keras.callbacks.ModelCheckpoint(\n",
        "                   '/kaggle/working/best_cnn.h5',\n",
        "                   save_best_only=True)\n",
        "model.compile(optimizer=optimizer,\n",
        "              loss='categorical_crossentropy',\n",
        "              metrics=['accuracy'])"
      ]
    },
    {
      "cell_type": "code",
      "execution_count": null,
      "metadata": {
        "colab": {
          "base_uri": "https://localhost:8080/"
        },
        "id": "kKfCEPj1E0jp",
        "outputId": "4161b153-f0c2-4718-af6d-f82f4b216d72"
      },
      "outputs": [
        {
          "name": "stdout",
          "output_type": "stream",
          "text": [
            "Model: \"sequential\"\n",
            "_________________________________________________________________\n",
            " Layer (type)                Output Shape              Param #   \n",
            "=================================================================\n",
            " conv2d (Conv2D)             (None, 32, 32, 32)        896       \n",
            "                                                                 \n",
            " batch_normalization (Batch  (None, 32, 32, 32)        128       \n",
            " Normalization)                                                  \n",
            "                                                                 \n",
            " conv2d_1 (Conv2D)           (None, 32, 32, 32)        9248      \n",
            "                                                                 \n",
            " max_pooling2d (MaxPooling2  (None, 16, 16, 32)        0         \n",
            " D)                                                              \n",
            "                                                                 \n",
            " dropout (Dropout)           (None, 16, 16, 32)        0         \n",
            "                                                                 \n",
            " conv2d_2 (Conv2D)           (None, 16, 16, 64)        18496     \n",
            "                                                                 \n",
            " batch_normalization_1 (Bat  (None, 16, 16, 64)        256       \n",
            " chNormalization)                                                \n",
            "                                                                 \n",
            " conv2d_3 (Conv2D)           (None, 16, 16, 64)        36928     \n",
            "                                                                 \n",
            " max_pooling2d_1 (MaxPoolin  (None, 8, 8, 64)          0         \n",
            " g2D)                                                            \n",
            "                                                                 \n",
            " dropout_1 (Dropout)         (None, 8, 8, 64)          0         \n",
            "                                                                 \n",
            " conv2d_4 (Conv2D)           (None, 8, 8, 128)         73856     \n",
            "                                                                 \n",
            " batch_normalization_2 (Bat  (None, 8, 8, 128)         512       \n",
            " chNormalization)                                                \n",
            "                                                                 \n",
            " conv2d_5 (Conv2D)           (None, 8, 8, 128)         147584    \n",
            "                                                                 \n",
            " max_pooling2d_2 (MaxPoolin  (None, 4, 4, 128)         0         \n",
            " g2D)                                                            \n",
            "                                                                 \n",
            " dropout_2 (Dropout)         (None, 4, 4, 128)         0         \n",
            "                                                                 \n",
            " flatten (Flatten)           (None, 2048)              0         \n",
            "                                                                 \n",
            " dense (Dense)               (None, 128)               262272    \n",
            "                                                                 \n",
            " dropout_3 (Dropout)         (None, 128)               0         \n",
            "                                                                 \n",
            " dense_1 (Dense)             (None, 10)                1290      \n",
            "                                                                 \n",
            "=================================================================\n",
            "Total params: 551466 (2.10 MB)\n",
            "Trainable params: 551018 (2.10 MB)\n",
            "Non-trainable params: 448 (1.75 KB)\n",
            "_________________________________________________________________\n"
          ]
        }
      ],
      "source": [
        "model.summary()"
      ]
    },
    {
      "cell_type": "code",
      "execution_count": null,
      "metadata": {
        "colab": {
          "base_uri": "https://localhost:8080/"
        },
        "id": "ZjQDLuVtE0jp",
        "outputId": "34138f3a-0b45-4f34-e5fe-dddc9b064e9c"
      },
      "outputs": [
        {
          "name": "stdout",
          "output_type": "stream",
          "text": [
            "Epoch 1/70\n"
          ]
        },
        {
          "name": "stderr",
          "output_type": "stream",
          "text": [
            "<ipython-input-21-944d98061737>:3: UserWarning: `Model.fit_generator` is deprecated and will be removed in a future version. Please use `Model.fit`, which supports generators.\n",
            "  history = model.fit_generator(datagen.flow(X_train, y_train, batch_size=128),\n"
          ]
        },
        {
          "name": "stdout",
          "output_type": "stream",
          "text": [
            "487/487 [==============================] - 46s 88ms/step - loss: 2.2106 - accuracy: 0.1889 - val_loss: 1.8862 - val_accuracy: 0.3085\n"
          ]
        },
        {
          "name": "stderr",
          "output_type": "stream",
          "text": [
            "/usr/local/lib/python3.10/dist-packages/keras/src/engine/training.py:3103: UserWarning: You are saving your model as an HDF5 file via `model.save()`. This file format is considered legacy. We recommend using instead the native Keras format, e.g. `model.save('my_model.keras')`.\n",
            "  saving_api.save_model(\n"
          ]
        },
        {
          "name": "stdout",
          "output_type": "stream",
          "text": [
            "Epoch 2/70\n",
            "487/487 [==============================] - 43s 89ms/step - loss: 1.8001 - accuracy: 0.3184 - val_loss: 1.1910 - val_accuracy: 0.5746\n",
            "Epoch 3/70\n",
            "487/487 [==============================] - 43s 89ms/step - loss: 1.0574 - accuracy: 0.6320 - val_loss: 0.4430 - val_accuracy: 0.8740\n",
            "Epoch 4/70\n",
            "487/487 [==============================] - 42s 87ms/step - loss: 0.5622 - accuracy: 0.8343 - val_loss: 0.3080 - val_accuracy: 0.9152\n",
            "Epoch 5/70\n",
            "487/487 [==============================] - 42s 86ms/step - loss: 0.4374 - accuracy: 0.8721 - val_loss: 0.2664 - val_accuracy: 0.9261\n",
            "Epoch 6/70\n",
            "487/487 [==============================] - 44s 90ms/step - loss: 0.3895 - accuracy: 0.8889 - val_loss: 0.2541 - val_accuracy: 0.9334\n",
            "Epoch 7/70\n",
            "487/487 [==============================] - 42s 86ms/step - loss: 0.3519 - accuracy: 0.9003 - val_loss: 0.2337 - val_accuracy: 0.9352\n",
            "Epoch 8/70\n",
            "487/487 [==============================] - 42s 87ms/step - loss: 0.3311 - accuracy: 0.9063 - val_loss: 0.2308 - val_accuracy: 0.9374\n",
            "Epoch 9/70\n",
            "487/487 [==============================] - 43s 88ms/step - loss: 0.3125 - accuracy: 0.9109 - val_loss: 0.2194 - val_accuracy: 0.9424\n",
            "Epoch 10/70\n",
            "487/487 [==============================] - 42s 87ms/step - loss: 0.3025 - accuracy: 0.9149 - val_loss: 0.2195 - val_accuracy: 0.9402\n",
            "Epoch 11/70\n",
            "487/487 [==============================] - 42s 85ms/step - loss: 0.2892 - accuracy: 0.9186 - val_loss: 0.2262 - val_accuracy: 0.9378\n",
            "Epoch 12/70\n",
            "487/487 [==============================] - 42s 87ms/step - loss: 0.2721 - accuracy: 0.9231 - val_loss: 0.2229 - val_accuracy: 0.9408\n",
            "Epoch 13/70\n",
            "487/487 [==============================] - 42s 86ms/step - loss: 0.2630 - accuracy: 0.9242 - val_loss: 0.2352 - val_accuracy: 0.9350\n",
            "Epoch 14/70\n",
            "487/487 [==============================] - 42s 87ms/step - loss: 0.2631 - accuracy: 0.9267 - val_loss: 0.2234 - val_accuracy: 0.9383\n",
            "Epoch 15/70\n",
            "487/487 [==============================] - 42s 85ms/step - loss: 0.2514 - accuracy: 0.9292 - val_loss: 0.1998 - val_accuracy: 0.9495\n",
            "Epoch 16/70\n",
            "487/487 [==============================] - 42s 85ms/step - loss: 0.2385 - accuracy: 0.9325 - val_loss: 0.2009 - val_accuracy: 0.9501\n",
            "Epoch 17/70\n",
            "487/487 [==============================] - 41s 85ms/step - loss: 0.2384 - accuracy: 0.9320 - val_loss: 0.1973 - val_accuracy: 0.9489\n",
            "Epoch 18/70\n",
            "487/487 [==============================] - 41s 84ms/step - loss: 0.2277 - accuracy: 0.9348 - val_loss: 0.1913 - val_accuracy: 0.9492\n",
            "Epoch 19/70\n",
            "487/487 [==============================] - 41s 85ms/step - loss: 0.2313 - accuracy: 0.9352 - val_loss: 0.2354 - val_accuracy: 0.9366\n",
            "Epoch 20/70\n",
            "487/487 [==============================] - 41s 85ms/step - loss: 0.2221 - accuracy: 0.9368 - val_loss: 0.1889 - val_accuracy: 0.9523\n",
            "Epoch 21/70\n",
            "487/487 [==============================] - 41s 83ms/step - loss: 0.2162 - accuracy: 0.9396 - val_loss: 0.2001 - val_accuracy: 0.9489\n",
            "Epoch 22/70\n",
            "487/487 [==============================] - 42s 86ms/step - loss: 0.2146 - accuracy: 0.9392 - val_loss: 0.1960 - val_accuracy: 0.9516\n",
            "Epoch 23/70\n",
            "487/487 [==============================] - 42s 86ms/step - loss: 0.2148 - accuracy: 0.9385 - val_loss: 0.1963 - val_accuracy: 0.9503\n",
            "Epoch 24/70\n",
            "487/487 [==============================] - 43s 87ms/step - loss: 0.2085 - accuracy: 0.9406 - val_loss: 0.1895 - val_accuracy: 0.9519\n",
            "Epoch 25/70\n",
            "487/487 [==============================] - 41s 85ms/step - loss: 0.2009 - accuracy: 0.9424 - val_loss: 0.1940 - val_accuracy: 0.9522\n",
            "Epoch 26/70\n",
            "487/487 [==============================] - 41s 84ms/step - loss: 0.1992 - accuracy: 0.9429 - val_loss: 0.1924 - val_accuracy: 0.9514\n",
            "Epoch 27/70\n",
            "487/487 [==============================] - 41s 84ms/step - loss: 0.1955 - accuracy: 0.9439 - val_loss: 0.2286 - val_accuracy: 0.9403\n",
            "Epoch 28/70\n",
            "487/487 [==============================] - 41s 85ms/step - loss: 0.1959 - accuracy: 0.9425 - val_loss: 0.2083 - val_accuracy: 0.9503\n"
          ]
        }
      ],
      "source": [
        "# Fit model in order to make predictions\n",
        "\n",
        "history = model.fit_generator(datagen.flow(X_train, y_train, batch_size=128),\n",
        "                              epochs=70, validation_data=(X_val, y_val),\n",
        "                              callbacks=[early_stopping, model_checkpoint])"
      ]
    },
    {
      "cell_type": "code",
      "execution_count": null,
      "metadata": {
        "id": "a_QaSXlbE0jp"
      },
      "outputs": [],
      "source": [
        "# Evaluate train and validation accuracies and losses\n",
        "\n",
        "train_acc = history.history['accuracy']\n",
        "val_acc = history.history['val_accuracy']\n",
        "\n",
        "train_loss = history.history['loss']\n",
        "val_loss = history.history['val_loss']"
      ]
    },
    {
      "cell_type": "code",
      "execution_count": null,
      "metadata": {
        "colab": {
          "base_uri": "https://localhost:8080/",
          "height": 598
        },
        "id": "YaRX8tQFE0jq",
        "outputId": "c3212835-c3f0-4624-9e38-abeeb208e74c"
      },
      "outputs": [
        {
          "data": {
            "image/png": "[encoded data removed]",
            "text/plain": [
              "<Figure size 2000x1000 with 2 Axes>"
            ]
          },
          "metadata": {},
          "output_type": "display_data"
        }
      ],
      "source": [
        "# Visualize epochs vs. train and validation accuracies and losses\n",
        "\n",
        "plt.figure(figsize=(20, 10))\n",
        "\n",
        "plt.subplot(1, 2, 1)\n",
        "plt.plot(train_acc, label='Training Accuracy')\n",
        "plt.plot(val_acc, label='Validation Accuracy')\n",
        "plt.legend()\n",
        "plt.title('Epochs vs. Training and Validation Accuracy')\n",
        "\n",
        "plt.subplot(1, 2, 2)\n",
        "plt.plot(train_loss, label='Training Loss')\n",
        "plt.plot(val_loss, label='Validation Loss')\n",
        "plt.legend()\n",
        "plt.title('Epochs vs. Training and Validation Loss')\n",
        "\n",
        "plt.show()"
      ]
    },
    {
      "cell_type": "markdown",
      "metadata": {
        "id": "27xXk-q_E0jq"
      },
      "source": [
        "After seeing how the algorithm converged, we can now evaluate the model's performance on the test data."
      ]
    },
    {
      "cell_type": "code",
      "execution_count": null,
      "metadata": {
        "colab": {
          "base_uri": "https://localhost:8080/"
        },
        "id": "2XYAbtHTE0jq",
        "outputId": "574dc9a7-bdef-4610-af3d-f49f602f2b11"
      },
      "outputs": [
        {
          "name": "stdout",
          "output_type": "stream",
          "text": [
            "Test accuracy is: 0.9556 \n",
            "Test loss is: 0.1828\n"
          ]
        }
      ],
      "source": [
        "# Evaluate model on test data\n",
        "test_loss, test_acc = model.evaluate(x=test_images, y=test_labels, verbose=0)\n",
        "\n",
        "print('Test accuracy is: {:0.4f} \\nTest loss is: {:0.4f}'.\n",
        "      format(test_acc, test_loss))"
      ]
    },
    {
      "cell_type": "code",
      "execution_count": null,
      "metadata": {
        "colab": {
          "base_uri": "https://localhost:8080/"
        },
        "id": "88kU1uSBBHS8",
        "outputId": "893fbc72-fce9-48ee-b833-c22cddc4fbd0"
      },
      "outputs": [
        {
          "name": "stderr",
          "output_type": "stream",
          "text": [
            "/usr/local/lib/python3.10/dist-packages/keras/src/engine/training.py:3103: UserWarning: You are saving your model as an HDF5 file via `model.save()`. This file format is considered legacy. We recommend using instead the native Keras format, e.g. `model.save('my_model.keras')`.\n",
            "  saving_api.save_model(\n"
          ]
        }
      ],
      "source": [
        "# 모델 저장\n",
        "model.save(\"/content/drive/MyDrive/Notebooks/Datathon/CNN_acc_96_model.h5\")"
      ]
    },
    {
      "cell_type": "code",
      "execution_count": 2,
      "metadata": {
        "colab": {
          "base_uri": "https://localhost:8080/",
          "height": 1000
        },
        "id": "ANBU8MveAbc5",
        "outputId": "eb721d1e-4467-41a3-c57a-7986960d312c"
      },
      "outputs": [
        {
          "ename": "NameError",
          "evalue": "name 'loadmat' is not defined",
          "output_type": "error",
          "traceback": [
            "\u001b[1;31m---------------------------------------------------------------------------\u001b[0m",
            "\u001b[1;31mNameError\u001b[0m                                 Traceback (most recent call last)",
            "Cell \u001b[1;32mIn[2], line 36\u001b[0m\n\u001b[0;32m     33\u001b[0m model_path \u001b[38;5;241m=\u001b[39m \u001b[38;5;124m\"\u001b[39m\u001b[38;5;124m/content/drive/MyDrive/Notebooks/Datathon/all_model.h5\u001b[39m\u001b[38;5;124m\"\u001b[39m\n\u001b[0;32m     35\u001b[0m \u001b[38;5;66;03m# 테스트 데이터 경로\u001b[39;00m\n\u001b[1;32m---> 36\u001b[0m test_raw \u001b[38;5;241m=\u001b[39m \u001b[43mloadmat\u001b[49m(\u001b[38;5;124m'\u001b[39m\u001b[38;5;124m/content/drive/MyDrive/Notebooks/Datathon/data/test_32x32.mat\u001b[39m\u001b[38;5;124m'\u001b[39m)\n\u001b[0;32m     37\u001b[0m test_images \u001b[38;5;241m=\u001b[39m np\u001b[38;5;241m.\u001b[39mmoveaxis(test_raw[\u001b[38;5;124m'\u001b[39m\u001b[38;5;124mX\u001b[39m\u001b[38;5;124m'\u001b[39m], \u001b[38;5;241m-\u001b[39m\u001b[38;5;241m1\u001b[39m, \u001b[38;5;241m0\u001b[39m)\n\u001b[0;32m     38\u001b[0m test_labels \u001b[38;5;241m=\u001b[39m test_raw[\u001b[38;5;124m'\u001b[39m\u001b[38;5;124my\u001b[39m\u001b[38;5;124m'\u001b[39m]\u001b[38;5;241m.\u001b[39mflatten()\n",
            "\u001b[1;31mNameError\u001b[0m: name 'loadmat' is not defined"
          ]
        }
      ],
      "source": [
        "from sklearn.preprocessing import LabelBinarizer\n",
        "\n",
        "def evaluate_model(X_test, y_test, model_path):\n",
        "    # 모델 로드\n",
        "    model = load_model(model_path)\n",
        "\n",
        "    # 모델 평가\n",
        "    loss, accuracy = model.evaluate(X_test, y_test)\n",
        "    print(f\"테스트 데이터의 정확도: {accuracy}\")\n",
        "\n",
        "    # 테스트 이미지에 대한 예측 결과 출력\n",
        "    num_images = len(X_test)\n",
        "    num_rows = (num_images + 7) // 8  # 2x4 그리드로 변경 => 올림 연산을 사용하여 행의 수 계산\n",
        "\n",
        "    for i in range(num_rows):\n",
        "        plt.figure(figsize=(15, 10))\n",
        "        for j in range(4):\n",
        "            index = i * 4 + j\n",
        "            if index < num_images:\n",
        "                # 이미지 예측\n",
        "                prediction = model.predict(np.array([X_test[index]]))  # 이미지에 대한\n",
        "                predicted_label = np.argmax(prediction)   # 각 값에 대한 최대값을 출력\n",
        "\n",
        "                # 이미지와 레이블 출력\n",
        "                # 모델이 예측한 값과 이미지 라벨이 맞는지 출력\n",
        "                plt.subplot(2, 4, j + 1)\n",
        "                plt.imshow(X_test[index])\n",
        "                plt.title(f\"Predicted Label: {predicted_label}, True Label: {y_test[index]}\")\n",
        "                plt.axis('off')\n",
        "        plt.show()\n",
        "\n",
        "# 모델 경로\n",
        "model_path = \"/content/drive/MyDrive/Notebooks/Datathon/all_model.h5\"\n",
        "\n",
        "# 테스트 데이터 경로\n",
        "test_raw = loadmat('/content/drive/MyDrive/Notebooks/Datathon/data/test_32x32.mat')\n",
        "test_images = np.moveaxis(test_raw['X'], -1, 0)\n",
        "test_labels = test_raw['y'].flatten()\n",
        "\n",
        "# Normalize the images data\n",
        "test_images = test_images.astype('float64') / 255.0\n",
        "\n",
        "# One-hot encoding of test labels\n",
        "lb = LabelBinarizer()\n",
        "test_labels = lb.fit_transform(test_labels)\n",
        "\n",
        "# 모델 평가\n",
        "evaluate_model(test_images, test_labels, model_path)\n"
      ]
    },
    {
      "cell_type": "code",
      "execution_count": null,
      "metadata": {
        "id": "dV6RSv3sCNbA"
      },
      "outputs": [],
      "source": [
        "## 새로운 테스트 이미지 전처리\n",
        "import os\n",
        "import pandas as pd\n",
        "import cv2\n",
        "import numpy as np\n",
        "from tensorflow.keras.models import load_model\n",
        "from tensorflow.keras.utils import to_categorical\n",
        "\n",
        "def preprocess_images(csv_file, image_dir):\n",
        "    # CSV 파일 읽기\n",
        "    df = pd.read_csv(csv_file)\n",
        "\n",
        "    # 이미지와 레이블을 저장할 리스트 초기화\n",
        "    images = []\n",
        "    labels = []\n",
        "\n",
        "    # 각 이미지 파일에 대한 처리\n",
        "    for index, row in df.iterrows():\n",
        "        # 이미지 파일 경로\n",
        "        image_path = os.path.join(image_dir, row['filename'])\n",
        "\n",
        "        # 이미지 불러오기\n",
        "        image = cv2.imread(image_path)\n",
        "\n",
        "        # 숫자가 있는 영역 자르기\n",
        "        left, top, width, height = row['left'], row['top'], row['width'], row['height']\n",
        "        digit_image = image[top:top+height, left:left+width].copy()  # 원본 이미지에 영향을 주지 않도록 복사\n",
        "\n",
        "        # 이미지 크기 조정 및 정규화\n",
        "        digit_image = cv2.resize(digit_image, (32, 32))\n",
        "        digit_image = digit_image.astype('float32') / 255.0\n",
        "\n",
        "        # 이미지와 레이블 추가\n",
        "        images.append(digit_image)\n",
        "        labels.append(row['label'])\n",
        "\n",
        "    # 리스트를 넘파이 배열로 변환\n",
        "    X_test = np.array(images)\n",
        "    y_test = np.array(labels)\n",
        "\n",
        "    print(\"전처리가 완료되었습니다.\")\n",
        "\n",
        "    return X_test, y_test\n"
      ]
    },
    {
      "cell_type": "code",
      "execution_count": null,
      "metadata": {
        "id": "ciwVorKUKRwS"
      },
      "outputs": [],
      "source": [
        "def evaluate_model(X_test, y_test, model_path):\n",
        "    # 모델 로드\n",
        "    model = load_model(model_path)\n",
        "\n",
        "    # 레이블을 원-핫 인코딩\n",
        "    y_test_encoded = to_categorical(y_test, num_classes=10)\n",
        "\n",
        "    # 모델 평가\n",
        "    loss, accuracy = model.evaluate(X_test, y_test_encoded)\n",
        "    print(f\"테스트 데이터의 정확도: {accuracy}\")\n",
        "\n",
        "    # 테스트 이미지에 대한 예측 결과 출력\n",
        "    num_images = len(X_test)\n",
        "    num_rows = (num_images + 11) // 12  # 올림 연산을 사용하여 행의 수 계산 => 12개씩 출력을 위해\n",
        "\n",
        "    for i in range(num_rows):\n",
        "        plt.figure(figsize=(15, 10))\n",
        "        for j in range(12):\n",
        "            index = i * 12 + j\n",
        "            if index < num_images:\n",
        "                # 이미지 예측\n",
        "                prediction = model.predict(np.array([X_test[index]]))  # 이미지에 대한\n",
        "                predicted_label = np.argmax(prediction)   # 각 값에 대한 최대값을 출력\n",
        "\n",
        "                # 이미지와 레이블 출력\n",
        "                # 모델이 예측한 값과 이미지 라벨이 맞는지 출력\n",
        "                plt.subplot(3, 4, j + 1)\n",
        "                plt.imshow(X_test[index])\n",
        "                plt.title(f\"Predicted Label: {predicted_label}, True Label: {y_test[index]}\")\n",
        "                plt.axis('off')\n",
        "        plt.show()"
      ]
    },
    {
      "cell_type": "code",
      "execution_count": 3,
      "metadata": {
        "colab": {
          "base_uri": "https://localhost:8080/",
          "height": 1000
        },
        "id": "xnbZ9DjhA4Gf",
        "outputId": "9232411c-776f-4cd4-9e96-90a27b7fdeb5"
      },
      "outputs": [
        {
          "ename": "NameError",
          "evalue": "name 'os' is not defined",
          "output_type": "error",
          "traceback": [
            "\u001b[1;31m---------------------------------------------------------------------------\u001b[0m",
            "\u001b[1;31mNameError\u001b[0m                                 Traceback (most recent call last)",
            "Cell \u001b[1;32mIn[3], line 8\u001b[0m\n\u001b[0;32m      5\u001b[0m image_dir \u001b[38;5;241m=\u001b[39m \u001b[38;5;124m\"\u001b[39m\u001b[38;5;124m/content/drive/MyDrive/Notebooks/Datathon/datathon_test_image\u001b[39m\u001b[38;5;124m\"\u001b[39m\n\u001b[0;32m      7\u001b[0m \u001b[38;5;66;03m# CSV 파일 경로\u001b[39;00m\n\u001b[1;32m----> 8\u001b[0m csv_file \u001b[38;5;241m=\u001b[39m \u001b[43mos\u001b[49m\u001b[38;5;241m.\u001b[39mpath\u001b[38;5;241m.\u001b[39mjoin(csv_dir, \u001b[38;5;124m\"\u001b[39m\u001b[38;5;124mdata.csv\u001b[39m\u001b[38;5;124m\"\u001b[39m)\n\u001b[0;32m     10\u001b[0m \u001b[38;5;66;03m# 전처리된 테스트 이미지 데이터 및 레이블 가져오기\u001b[39;00m\n\u001b[0;32m     11\u001b[0m X_test, y_test \u001b[38;5;241m=\u001b[39m preprocess_images(csv_file, image_dir)\n",
            "\u001b[1;31mNameError\u001b[0m: name 'os' is not defined"
          ]
        }
      ],
      "source": [
        "# CSV 파일이 있는 디렉토리 경로\n",
        "csv_dir = \"/content/drive/MyDrive/Notebooks/Datathon/datathon_test_image\"\n",
        "\n",
        "# 이미지 파일이 있는 디렉토리 경로\n",
        "image_dir = \"/content/drive/MyDrive/Notebooks/Datathon/datathon_test_image\"\n",
        "\n",
        "# CSV 파일 경로\n",
        "csv_file = os.path.join(csv_dir, \"data.csv\")\n",
        "\n",
        "# 전처리된 테스트 이미지 데이터 및 레이블 가져오기\n",
        "X_test, y_test = preprocess_images(csv_file, image_dir)\n",
        "\n",
        "# 모델 경로\n",
        "model_path = \"/content/drive/MyDrive/Notebooks/Datathon/all_model.h5\"\n",
        "\n",
        "# 모델 평가\n",
        "evaluate_model(X_test, y_test, model_path)"
      ]
    },
    {
      "cell_type": "code",
      "execution_count": 4,
      "metadata": {
        "colab": {
          "base_uri": "https://localhost:8080/",
          "height": 1000
        },
        "id": "J77HQqBNKWrX",
        "outputId": "79ec5897-05b2-4a4b-f299-cc6a141dd141"
      },
      "outputs": [
        {
          "ename": "NameError",
          "evalue": "name 'os' is not defined",
          "output_type": "error",
          "traceback": [
            "\u001b[1;31m---------------------------------------------------------------------------\u001b[0m",
            "\u001b[1;31mNameError\u001b[0m                                 Traceback (most recent call last)",
            "Cell \u001b[1;32mIn[4], line 8\u001b[0m\n\u001b[0;32m      5\u001b[0m image_dir \u001b[38;5;241m=\u001b[39m \u001b[38;5;124m\"\u001b[39m\u001b[38;5;124m/content/drive/MyDrive/Notebooks/Datathon/datathon_test_image\u001b[39m\u001b[38;5;124m\"\u001b[39m\n\u001b[0;32m      7\u001b[0m \u001b[38;5;66;03m# CSV 파일 경로\u001b[39;00m\n\u001b[1;32m----> 8\u001b[0m csv_file \u001b[38;5;241m=\u001b[39m \u001b[43mos\u001b[49m\u001b[38;5;241m.\u001b[39mpath\u001b[38;5;241m.\u001b[39mjoin(csv_dir, \u001b[38;5;124m\"\u001b[39m\u001b[38;5;124mdata.csv\u001b[39m\u001b[38;5;124m\"\u001b[39m)\n\u001b[0;32m     10\u001b[0m \u001b[38;5;66;03m# 전처리된 테스트 이미지 데이터 및 레이블 가져오기\u001b[39;00m\n\u001b[0;32m     11\u001b[0m X_test, y_test \u001b[38;5;241m=\u001b[39m preprocess_images(csv_file, image_dir)\n",
            "\u001b[1;31mNameError\u001b[0m: name 'os' is not defined"
          ]
        }
      ],
      "source": [
        "# CSV 파일이 있는 디렉토리 경로\n",
        "csv_dir = \"/content/drive/MyDrive/Notebooks/Datathon/datathon_test_image\"\n",
        "\n",
        "# 이미지 파일이 있는 디렉토리 경로\n",
        "image_dir = \"/content/drive/MyDrive/Notebooks/Datathon/datathon_test_image\"\n",
        "\n",
        "# CSV 파일 경로\n",
        "csv_file = os.path.join(csv_dir, \"data.csv\")\n",
        "\n",
        "# 전처리된 테스트 이미지 데이터 및 레이블 가져오기\n",
        "X_test, y_test = preprocess_images(csv_file, image_dir)\n",
        "\n",
        "# 모델 경로\n",
        "model_path = \"/content/drive/MyDrive/Notebooks/Datathon/my_model.h5\"\n",
        "\n",
        "# 모델 평가\n",
        "evaluate_model(X_test, y_test, model_path)"
      ]
    },
    {
      "cell_type": "code",
      "execution_count": 5,
      "metadata": {
        "colab": {
          "base_uri": "https://localhost:8080/",
          "height": 1000
        },
        "id": "Pu6rjH_28-c1",
        "outputId": "2d89f2de-80e7-4314-8c9b-ee30a794b9be"
      },
      "outputs": [
        {
          "ename": "ModuleNotFoundError",
          "evalue": "No module named 'cv2'",
          "output_type": "error",
          "traceback": [
            "\u001b[1;31m---------------------------------------------------------------------------\u001b[0m",
            "\u001b[1;31mModuleNotFoundError\u001b[0m                       Traceback (most recent call last)",
            "Cell \u001b[1;32mIn[5], line 3\u001b[0m\n\u001b[0;32m      1\u001b[0m \u001b[38;5;66;03m# 최종평가\u001b[39;00m\n\u001b[0;32m      2\u001b[0m \u001b[38;5;28;01mimport\u001b[39;00m \u001b[38;5;21;01mos\u001b[39;00m\n\u001b[1;32m----> 3\u001b[0m \u001b[38;5;28;01mimport\u001b[39;00m \u001b[38;5;21;01mcv2\u001b[39;00m\n\u001b[0;32m      4\u001b[0m \u001b[38;5;28;01mimport\u001b[39;00m \u001b[38;5;21;01mnumpy\u001b[39;00m \u001b[38;5;28;01mas\u001b[39;00m \u001b[38;5;21;01mnp\u001b[39;00m\n\u001b[0;32m      5\u001b[0m \u001b[38;5;28;01mfrom\u001b[39;00m \u001b[38;5;21;01mtensorflow\u001b[39;00m\u001b[38;5;21;01m.\u001b[39;00m\u001b[38;5;21;01mkeras\u001b[39;00m\u001b[38;5;21;01m.\u001b[39;00m\u001b[38;5;21;01mmodels\u001b[39;00m \u001b[38;5;28;01mimport\u001b[39;00m load_model\n",
            "\u001b[1;31mModuleNotFoundError\u001b[0m: No module named 'cv2'"
          ]
        }
      ],
      "source": [
        "# 최종평가\n",
        "import os\n",
        "import cv2\n",
        "import numpy as np\n",
        "from tensorflow.keras.models import load_model\n",
        "from tensorflow.keras.utils import to_categorical\n",
        "import matplotlib.pyplot as plt\n",
        "\n",
        "def preprocess_image(image_path):\n",
        "    # 이미지 불러오기\n",
        "    image = cv2.imread(image_path)\n",
        "\n",
        "    # 이미지 크기 조정 및 정규화\n",
        "    resized_image = cv2.resize(image, (32, 32))\n",
        "    resized_image = resized_image.astype('float32') / 255.0\n",
        "\n",
        "    return resized_image\n",
        "\n",
        "def evaluate_model(model_path, test_data_dir):\n",
        "    # 모델 로드\n",
        "    model = load_model(model_path)\n",
        "\n",
        "    # 테스트 데이터 경로\n",
        "    test_data_paths = [os.path.join(test_data_dir, f\"testdata{i}.png\") for i in range(1, 24165)]\n",
        "\n",
        "    # 테스트 이미지에 대한 예측 결과 출력\n",
        "    num_images = len(test_data_paths)\n",
        "    num_rows = (num_images + 11) // 12  # 올림 연산을 사용하여 행의 수 계산 => 12개씩 출력을 위해\n",
        "\n",
        "    correct_predictions = 0  # 정확한 예측 수 초기화\n",
        "\n",
        "    accuracy = correct_predictions / num_images\n",
        "    print(f\"테스트 데이터의 정확도 : {accuracy}\")\n",
        "\n",
        "    for i in range(num_rows):\n",
        "        plt.figure(figsize=(15, 10))\n",
        "        for j in range(12):\n",
        "            index = i * 12 + j\n",
        "            if index < num_images:\n",
        "                # 이미지 전처리\n",
        "                preprocessed_image = preprocess_image(test_data_paths[index])\n",
        "\n",
        "                # 이미지 예측\n",
        "                prediction = model.predict(np.array([preprocessed_image]))\n",
        "                predicted_label = np.argmax(prediction)\n",
        "\n",
        "                # 이미지와 레이블 출력\n",
        "                plt.subplot(3, 4, j + 1)\n",
        "                plt.imshow(preprocessed_image)\n",
        "                plt.title(f\"Predicted Label: {predicted_label}\")\n",
        "                plt.axis('off')\n",
        "\n",
        "                # 정답인 경우 정확한 예측 수 증가\n",
        "                if predicted_label == index + 1:\n",
        "                    correct_predictions += 1\n",
        "        plt.show()\n",
        "\n",
        "\n",
        "# 모델 경로\n",
        "model_path = \"/content/drive/MyDrive/Notebooks/Datathon/all_model.h5\"\n",
        "\n",
        "# 테스트 데이터 경로\n",
        "test_data_dir = \"/content/drive/MyDrive/Notebooks/Datathon/data/TestData\"\n",
        "\n",
        "# 모델 평가\n",
        "evaluate_model(model_path, test_data_dir)\n"
      ]
    },
    {
      "cell_type": "code",
      "execution_count": null,
      "metadata": {
        "colab": {
          "base_uri": "https://localhost:8080/",
          "height": 355
        },
        "id": "hhv82Mw6kVdc",
        "outputId": "e6d3c57e-29a0-4847-ee51-5a64f6507170"
      },
      "outputs": [
        {
          "ename": "KeyboardInterrupt",
          "evalue": "",
          "output_type": "error",
          "traceback": [
            "\u001b[0;31m---------------------------------------------------------------------------\u001b[0m",
            "\u001b[0;31mKeyboardInterrupt\u001b[0m                         Traceback (most recent call last)",
            "\u001b[0;32m<ipython-input-5-dc7e258d2ee4>\u001b[0m in \u001b[0;36m<cell line: 56>\u001b[0;34m()\u001b[0m\n\u001b[1;32m     54\u001b[0m \u001b[0;34m\u001b[0m\u001b[0m\n\u001b[1;32m     55\u001b[0m \u001b[0;31m# 모델 평가 및 결과 저장\u001b[0m\u001b[0;34m\u001b[0m\u001b[0;34m\u001b[0m\u001b[0m\n\u001b[0;32m---> 56\u001b[0;31m \u001b[0mevaluate_model\u001b[0m\u001b[0;34m(\u001b[0m\u001b[0mmodel_path\u001b[0m\u001b[0;34m,\u001b[0m \u001b[0mtest_data_dir\u001b[0m\u001b[0;34m)\u001b[0m\u001b[0;34m\u001b[0m\u001b[0;34m\u001b[0m\u001b[0m\n\u001b[0m",
            "\u001b[0;32m<ipython-input-5-dc7e258d2ee4>\u001b[0m in \u001b[0;36mevaluate_model\u001b[0;34m(model_path, test_data_dir)\u001b[0m\n\u001b[1;32m     31\u001b[0m \u001b[0;34m\u001b[0m\u001b[0m\n\u001b[1;32m     32\u001b[0m         \u001b[0;31m# 이미지 예측\u001b[0m\u001b[0;34m\u001b[0m\u001b[0;34m\u001b[0m\u001b[0m\n\u001b[0;32m---> 33\u001b[0;31m         \u001b[0mprediction\u001b[0m \u001b[0;34m=\u001b[0m \u001b[0mmodel\u001b[0m\u001b[0;34m.\u001b[0m\u001b[0mpredict\u001b[0m\u001b[0;34m(\u001b[0m\u001b[0mnp\u001b[0m\u001b[0;34m.\u001b[0m\u001b[0marray\u001b[0m\u001b[0;34m(\u001b[0m\u001b[0;34m[\u001b[0m\u001b[0mpreprocessed_image\u001b[0m\u001b[0;34m]\u001b[0m\u001b[0;34m)\u001b[0m\u001b[0;34m)\u001b[0m\u001b[0;34m\u001b[0m\u001b[0;34m\u001b[0m\u001b[0m\n\u001b[0m\u001b[1;32m     34\u001b[0m         \u001b[0mpredicted_label\u001b[0m \u001b[0;34m=\u001b[0m \u001b[0mnp\u001b[0m\u001b[0;34m.\u001b[0m\u001b[0margmax\u001b[0m\u001b[0;34m(\u001b[0m\u001b[0mprediction\u001b[0m\u001b[0;34m)\u001b[0m\u001b[0;34m\u001b[0m\u001b[0;34m\u001b[0m\u001b[0m\n\u001b[1;32m     35\u001b[0m \u001b[0;34m\u001b[0m\u001b[0m\n",
            "\u001b[0;32m/usr/local/lib/python3.10/dist-packages/keras/src/utils/traceback_utils.py\u001b[0m in \u001b[0;36merror_handler\u001b[0;34m(*args, **kwargs)\u001b[0m\n\u001b[1;32m     63\u001b[0m         \u001b[0mfiltered_tb\u001b[0m \u001b[0;34m=\u001b[0m \u001b[0;32mNone\u001b[0m\u001b[0;34m\u001b[0m\u001b[0;34m\u001b[0m\u001b[0m\n\u001b[1;32m     64\u001b[0m         \u001b[0;32mtry\u001b[0m\u001b[0;34m:\u001b[0m\u001b[0;34m\u001b[0m\u001b[0;34m\u001b[0m\u001b[0m\n\u001b[0;32m---> 65\u001b[0;31m             \u001b[0;32mreturn\u001b[0m \u001b[0mfn\u001b[0m\u001b[0;34m(\u001b[0m\u001b[0;34m*\u001b[0m\u001b[0margs\u001b[0m\u001b[0;34m,\u001b[0m \u001b[0;34m**\u001b[0m\u001b[0mkwargs\u001b[0m\u001b[0;34m)\u001b[0m\u001b[0;34m\u001b[0m\u001b[0;34m\u001b[0m\u001b[0m\n\u001b[0m\u001b[1;32m     66\u001b[0m         \u001b[0;32mexcept\u001b[0m \u001b[0mException\u001b[0m \u001b[0;32mas\u001b[0m \u001b[0me\u001b[0m\u001b[0;34m:\u001b[0m\u001b[0;34m\u001b[0m\u001b[0;34m\u001b[0m\u001b[0m\n\u001b[1;32m     67\u001b[0m             \u001b[0mfiltered_tb\u001b[0m \u001b[0;34m=\u001b[0m \u001b[0m_process_traceback_frames\u001b[0m\u001b[0;34m(\u001b[0m\u001b[0me\u001b[0m\u001b[0;34m.\u001b[0m\u001b[0m__traceback__\u001b[0m\u001b[0;34m)\u001b[0m\u001b[0;34m\u001b[0m\u001b[0;34m\u001b[0m\u001b[0m\n",
            "\u001b[0;32m/usr/local/lib/python3.10/dist-packages/keras/src/engine/training.py\u001b[0m in \u001b[0;36mpredict\u001b[0;34m(self, x, batch_size, verbose, steps, callbacks, max_queue_size, workers, use_multiprocessing)\u001b[0m\n\u001b[1;32m   2653\u001b[0m                     \u001b[0;32mfor\u001b[0m \u001b[0mstep\u001b[0m \u001b[0;32min\u001b[0m \u001b[0mdata_handler\u001b[0m\u001b[0;34m.\u001b[0m\u001b[0msteps\u001b[0m\u001b[0;34m(\u001b[0m\u001b[0;34m)\u001b[0m\u001b[0;34m:\u001b[0m\u001b[0;34m\u001b[0m\u001b[0;34m\u001b[0m\u001b[0m\n\u001b[1;32m   2654\u001b[0m                         \u001b[0mcallbacks\u001b[0m\u001b[0;34m.\u001b[0m\u001b[0mon_predict_batch_begin\u001b[0m\u001b[0;34m(\u001b[0m\u001b[0mstep\u001b[0m\u001b[0;34m)\u001b[0m\u001b[0;34m\u001b[0m\u001b[0;34m\u001b[0m\u001b[0m\n\u001b[0;32m-> 2655\u001b[0;31m                         \u001b[0mtmp_batch_outputs\u001b[0m \u001b[0;34m=\u001b[0m \u001b[0mself\u001b[0m\u001b[0;34m.\u001b[0m\u001b[0mpredict_function\u001b[0m\u001b[0;34m(\u001b[0m\u001b[0miterator\u001b[0m\u001b[0;34m)\u001b[0m\u001b[0;34m\u001b[0m\u001b[0;34m\u001b[0m\u001b[0m\n\u001b[0m\u001b[1;32m   2656\u001b[0m                         \u001b[0;32mif\u001b[0m \u001b[0mdata_handler\u001b[0m\u001b[0;34m.\u001b[0m\u001b[0mshould_sync\u001b[0m\u001b[0;34m:\u001b[0m\u001b[0;34m\u001b[0m\u001b[0;34m\u001b[0m\u001b[0m\n\u001b[1;32m   2657\u001b[0m                             \u001b[0mcontext\u001b[0m\u001b[0;34m.\u001b[0m\u001b[0masync_wait\u001b[0m\u001b[0;34m(\u001b[0m\u001b[0;34m)\u001b[0m\u001b[0;34m\u001b[0m\u001b[0;34m\u001b[0m\u001b[0m\n",
            "\u001b[0;32m/usr/local/lib/python3.10/dist-packages/tensorflow/python/util/traceback_utils.py\u001b[0m in \u001b[0;36merror_handler\u001b[0;34m(*args, **kwargs)\u001b[0m\n\u001b[1;32m    148\u001b[0m     \u001b[0mfiltered_tb\u001b[0m \u001b[0;34m=\u001b[0m \u001b[0;32mNone\u001b[0m\u001b[0;34m\u001b[0m\u001b[0;34m\u001b[0m\u001b[0m\n\u001b[1;32m    149\u001b[0m     \u001b[0;32mtry\u001b[0m\u001b[0;34m:\u001b[0m\u001b[0;34m\u001b[0m\u001b[0;34m\u001b[0m\u001b[0m\n\u001b[0;32m--> 150\u001b[0;31m       \u001b[0;32mreturn\u001b[0m \u001b[0mfn\u001b[0m\u001b[0;34m(\u001b[0m\u001b[0;34m*\u001b[0m\u001b[0margs\u001b[0m\u001b[0;34m,\u001b[0m \u001b[0;34m**\u001b[0m\u001b[0mkwargs\u001b[0m\u001b[0;34m)\u001b[0m\u001b[0;34m\u001b[0m\u001b[0;34m\u001b[0m\u001b[0m\n\u001b[0m\u001b[1;32m    151\u001b[0m     \u001b[0;32mexcept\u001b[0m \u001b[0mException\u001b[0m \u001b[0;32mas\u001b[0m \u001b[0me\u001b[0m\u001b[0;34m:\u001b[0m\u001b[0;34m\u001b[0m\u001b[0;34m\u001b[0m\u001b[0m\n\u001b[1;32m    152\u001b[0m       \u001b[0mfiltered_tb\u001b[0m \u001b[0;34m=\u001b[0m \u001b[0m_process_traceback_frames\u001b[0m\u001b[0;34m(\u001b[0m\u001b[0me\u001b[0m\u001b[0;34m.\u001b[0m\u001b[0m__traceback__\u001b[0m\u001b[0;34m)\u001b[0m\u001b[0;34m\u001b[0m\u001b[0;34m\u001b[0m\u001b[0m\n",
            "\u001b[0;32m/usr/local/lib/python3.10/dist-packages/tensorflow/python/eager/polymorphic_function/polymorphic_function.py\u001b[0m in \u001b[0;36m__call__\u001b[0;34m(self, *args, **kwds)\u001b[0m\n\u001b[1;32m    830\u001b[0m \u001b[0;34m\u001b[0m\u001b[0m\n\u001b[1;32m    831\u001b[0m       \u001b[0;32mwith\u001b[0m \u001b[0mOptionalXlaContext\u001b[0m\u001b[0;34m(\u001b[0m\u001b[0mself\u001b[0m\u001b[0;34m.\u001b[0m\u001b[0m_jit_compile\u001b[0m\u001b[0;34m)\u001b[0m\u001b[0;34m:\u001b[0m\u001b[0;34m\u001b[0m\u001b[0;34m\u001b[0m\u001b[0m\n\u001b[0;32m--> 832\u001b[0;31m         \u001b[0mresult\u001b[0m \u001b[0;34m=\u001b[0m \u001b[0mself\u001b[0m\u001b[0;34m.\u001b[0m\u001b[0m_call\u001b[0m\u001b[0;34m(\u001b[0m\u001b[0;34m*\u001b[0m\u001b[0margs\u001b[0m\u001b[0;34m,\u001b[0m \u001b[0;34m**\u001b[0m\u001b[0mkwds\u001b[0m\u001b[0;34m)\u001b[0m\u001b[0;34m\u001b[0m\u001b[0;34m\u001b[0m\u001b[0m\n\u001b[0m\u001b[1;32m    833\u001b[0m \u001b[0;34m\u001b[0m\u001b[0m\n\u001b[1;32m    834\u001b[0m       \u001b[0mnew_tracing_count\u001b[0m \u001b[0;34m=\u001b[0m \u001b[0mself\u001b[0m\u001b[0;34m.\u001b[0m\u001b[0mexperimental_get_tracing_count\u001b[0m\u001b[0;34m(\u001b[0m\u001b[0;34m)\u001b[0m\u001b[0;34m\u001b[0m\u001b[0;34m\u001b[0m\u001b[0m\n",
            "\u001b[0;32m/usr/local/lib/python3.10/dist-packages/tensorflow/python/eager/polymorphic_function/polymorphic_function.py\u001b[0m in \u001b[0;36m_call\u001b[0;34m(self, *args, **kwds)\u001b[0m\n\u001b[1;32m    916\u001b[0m           )\n\u001b[1;32m    917\u001b[0m       )\n\u001b[0;32m--> 918\u001b[0;31m       return self._concrete_variable_creation_fn._call_flat(  # pylint: disable=protected-access\n\u001b[0m\u001b[1;32m    919\u001b[0m           \u001b[0mfiltered_flat_args\u001b[0m\u001b[0;34m,\u001b[0m\u001b[0;34m\u001b[0m\u001b[0;34m\u001b[0m\u001b[0m\n\u001b[1;32m    920\u001b[0m           \u001b[0mself\u001b[0m\u001b[0;34m.\u001b[0m\u001b[0m_concrete_variable_creation_fn\u001b[0m\u001b[0;34m.\u001b[0m\u001b[0mcaptured_inputs\u001b[0m\u001b[0;34m,\u001b[0m\u001b[0;34m\u001b[0m\u001b[0;34m\u001b[0m\u001b[0m\n",
            "\u001b[0;32m/usr/local/lib/python3.10/dist-packages/tensorflow/python/eager/polymorphic_function/concrete_function.py\u001b[0m in \u001b[0;36m_call_flat\u001b[0;34m(self, tensor_inputs, captured_inputs)\u001b[0m\n\u001b[1;32m   1321\u001b[0m         and executing_eagerly):\n\u001b[1;32m   1322\u001b[0m       \u001b[0;31m# No tape is watching; skip to running the function.\u001b[0m\u001b[0;34m\u001b[0m\u001b[0;34m\u001b[0m\u001b[0m\n\u001b[0;32m-> 1323\u001b[0;31m       \u001b[0;32mreturn\u001b[0m \u001b[0mself\u001b[0m\u001b[0;34m.\u001b[0m\u001b[0m_inference_function\u001b[0m\u001b[0;34m.\u001b[0m\u001b[0mcall_preflattened\u001b[0m\u001b[0;34m(\u001b[0m\u001b[0margs\u001b[0m\u001b[0;34m)\u001b[0m\u001b[0;34m\u001b[0m\u001b[0;34m\u001b[0m\u001b[0m\n\u001b[0m\u001b[1;32m   1324\u001b[0m     forward_backward = self._select_forward_and_backward_functions(\n\u001b[1;32m   1325\u001b[0m         \u001b[0margs\u001b[0m\u001b[0;34m,\u001b[0m\u001b[0;34m\u001b[0m\u001b[0;34m\u001b[0m\u001b[0m\n",
            "\u001b[0;32m/usr/local/lib/python3.10/dist-packages/tensorflow/python/eager/polymorphic_function/atomic_function.py\u001b[0m in \u001b[0;36mcall_preflattened\u001b[0;34m(self, args)\u001b[0m\n\u001b[1;32m    214\u001b[0m   \u001b[0;32mdef\u001b[0m \u001b[0mcall_preflattened\u001b[0m\u001b[0;34m(\u001b[0m\u001b[0mself\u001b[0m\u001b[0;34m,\u001b[0m \u001b[0margs\u001b[0m\u001b[0;34m:\u001b[0m \u001b[0mSequence\u001b[0m\u001b[0;34m[\u001b[0m\u001b[0mcore\u001b[0m\u001b[0;34m.\u001b[0m\u001b[0mTensor\u001b[0m\u001b[0;34m]\u001b[0m\u001b[0;34m)\u001b[0m \u001b[0;34m->\u001b[0m \u001b[0mAny\u001b[0m\u001b[0;34m:\u001b[0m\u001b[0;34m\u001b[0m\u001b[0;34m\u001b[0m\u001b[0m\n\u001b[1;32m    215\u001b[0m     \u001b[0;34m\"\"\"Calls with flattened tensor inputs and returns the structured output.\"\"\"\u001b[0m\u001b[0;34m\u001b[0m\u001b[0;34m\u001b[0m\u001b[0m\n\u001b[0;32m--> 216\u001b[0;31m     \u001b[0mflat_outputs\u001b[0m \u001b[0;34m=\u001b[0m \u001b[0mself\u001b[0m\u001b[0;34m.\u001b[0m\u001b[0mcall_flat\u001b[0m\u001b[0;34m(\u001b[0m\u001b[0;34m*\u001b[0m\u001b[0margs\u001b[0m\u001b[0;34m)\u001b[0m\u001b[0;34m\u001b[0m\u001b[0;34m\u001b[0m\u001b[0m\n\u001b[0m\u001b[1;32m    217\u001b[0m     \u001b[0;32mreturn\u001b[0m \u001b[0mself\u001b[0m\u001b[0;34m.\u001b[0m\u001b[0mfunction_type\u001b[0m\u001b[0;34m.\u001b[0m\u001b[0mpack_output\u001b[0m\u001b[0;34m(\u001b[0m\u001b[0mflat_outputs\u001b[0m\u001b[0;34m)\u001b[0m\u001b[0;34m\u001b[0m\u001b[0;34m\u001b[0m\u001b[0m\n\u001b[1;32m    218\u001b[0m \u001b[0;34m\u001b[0m\u001b[0m\n",
            "\u001b[0;32m/usr/local/lib/python3.10/dist-packages/tensorflow/python/eager/polymorphic_function/atomic_function.py\u001b[0m in \u001b[0;36mcall_flat\u001b[0;34m(self, *args)\u001b[0m\n\u001b[1;32m    249\u001b[0m         \u001b[0;32mwith\u001b[0m \u001b[0mrecord\u001b[0m\u001b[0;34m.\u001b[0m\u001b[0mstop_recording\u001b[0m\u001b[0;34m(\u001b[0m\u001b[0;34m)\u001b[0m\u001b[0;34m:\u001b[0m\u001b[0;34m\u001b[0m\u001b[0;34m\u001b[0m\u001b[0m\n\u001b[1;32m    250\u001b[0m           \u001b[0;32mif\u001b[0m \u001b[0mself\u001b[0m\u001b[0;34m.\u001b[0m\u001b[0m_bound_context\u001b[0m\u001b[0;34m.\u001b[0m\u001b[0mexecuting_eagerly\u001b[0m\u001b[0;34m(\u001b[0m\u001b[0;34m)\u001b[0m\u001b[0;34m:\u001b[0m\u001b[0;34m\u001b[0m\u001b[0;34m\u001b[0m\u001b[0m\n\u001b[0;32m--> 251\u001b[0;31m             outputs = self._bound_context.call_function(\n\u001b[0m\u001b[1;32m    252\u001b[0m                 \u001b[0mself\u001b[0m\u001b[0;34m.\u001b[0m\u001b[0mname\u001b[0m\u001b[0;34m,\u001b[0m\u001b[0;34m\u001b[0m\u001b[0;34m\u001b[0m\u001b[0m\n\u001b[1;32m    253\u001b[0m                 \u001b[0mlist\u001b[0m\u001b[0;34m(\u001b[0m\u001b[0margs\u001b[0m\u001b[0;34m)\u001b[0m\u001b[0;34m,\u001b[0m\u001b[0;34m\u001b[0m\u001b[0;34m\u001b[0m\u001b[0m\n",
            "\u001b[0;32m/usr/local/lib/python3.10/dist-packages/tensorflow/python/eager/context.py\u001b[0m in \u001b[0;36mcall_function\u001b[0;34m(self, name, tensor_inputs, num_outputs)\u001b[0m\n\u001b[1;32m   1484\u001b[0m     \u001b[0mcancellation_context\u001b[0m \u001b[0;34m=\u001b[0m \u001b[0mcancellation\u001b[0m\u001b[0;34m.\u001b[0m\u001b[0mcontext\u001b[0m\u001b[0;34m(\u001b[0m\u001b[0;34m)\u001b[0m\u001b[0;34m\u001b[0m\u001b[0;34m\u001b[0m\u001b[0m\n\u001b[1;32m   1485\u001b[0m     \u001b[0;32mif\u001b[0m \u001b[0mcancellation_context\u001b[0m \u001b[0;32mis\u001b[0m \u001b[0;32mNone\u001b[0m\u001b[0;34m:\u001b[0m\u001b[0;34m\u001b[0m\u001b[0;34m\u001b[0m\u001b[0m\n\u001b[0;32m-> 1486\u001b[0;31m       outputs = execute.execute(\n\u001b[0m\u001b[1;32m   1487\u001b[0m           \u001b[0mname\u001b[0m\u001b[0;34m.\u001b[0m\u001b[0mdecode\u001b[0m\u001b[0;34m(\u001b[0m\u001b[0;34m\"utf-8\"\u001b[0m\u001b[0;34m)\u001b[0m\u001b[0;34m,\u001b[0m\u001b[0;34m\u001b[0m\u001b[0;34m\u001b[0m\u001b[0m\n\u001b[1;32m   1488\u001b[0m           \u001b[0mnum_outputs\u001b[0m\u001b[0;34m=\u001b[0m\u001b[0mnum_outputs\u001b[0m\u001b[0;34m,\u001b[0m\u001b[0;34m\u001b[0m\u001b[0;34m\u001b[0m\u001b[0m\n",
            "\u001b[0;32m/usr/local/lib/python3.10/dist-packages/tensorflow/python/eager/execute.py\u001b[0m in \u001b[0;36mquick_execute\u001b[0;34m(op_name, num_outputs, inputs, attrs, ctx, name)\u001b[0m\n\u001b[1;32m     51\u001b[0m   \u001b[0;32mtry\u001b[0m\u001b[0;34m:\u001b[0m\u001b[0;34m\u001b[0m\u001b[0;34m\u001b[0m\u001b[0m\n\u001b[1;32m     52\u001b[0m     \u001b[0mctx\u001b[0m\u001b[0;34m.\u001b[0m\u001b[0mensure_initialized\u001b[0m\u001b[0;34m(\u001b[0m\u001b[0;34m)\u001b[0m\u001b[0;34m\u001b[0m\u001b[0;34m\u001b[0m\u001b[0m\n\u001b[0;32m---> 53\u001b[0;31m     tensors = pywrap_tfe.TFE_Py_Execute(ctx._handle, device_name, op_name,\n\u001b[0m\u001b[1;32m     54\u001b[0m                                         inputs, attrs, num_outputs)\n\u001b[1;32m     55\u001b[0m   \u001b[0;32mexcept\u001b[0m \u001b[0mcore\u001b[0m\u001b[0;34m.\u001b[0m\u001b[0m_NotOkStatusException\u001b[0m \u001b[0;32mas\u001b[0m \u001b[0me\u001b[0m\u001b[0;34m:\u001b[0m\u001b[0;34m\u001b[0m\u001b[0;34m\u001b[0m\u001b[0m\n",
            "\u001b[0;31mKeyboardInterrupt\u001b[0m: "
          ]
        }
      ],
      "source": [
        "import os\n",
        "import cv2\n",
        "import numpy as np\n",
        "from tensorflow.keras.models import load_model\n",
        "import pandas as pd\n",
        "\n",
        "def preprocess_image(image_path):\n",
        "    # 이미지 불러오기\n",
        "    image = cv2.imread(image_path)\n",
        "\n",
        "    # 이미지 크기 조정 및 정규화\n",
        "    resized_image = cv2.resize(image, (32, 32))\n",
        "    resized_image = resized_image.astype('float32') / 255.0\n",
        "\n",
        "    return resized_image\n",
        "\n",
        "def evaluate_model(model_path, test_data_dir):\n",
        "    # 모델 로드\n",
        "    model = load_model(model_path)\n",
        "\n",
        "    # 테스트 데이터 경로\n",
        "    test_data_paths = [os.path.join(test_data_dir, f\"testdata{i}.png\") for i in range(1, 24165)]\n",
        "\n",
        "    # 예측 결과와 파일 이름을 저장할 리스트 초기화\n",
        "    predicted_labels = []\n",
        "    file_names = []\n",
        "\n",
        "    for i, image_path in enumerate(test_data_paths):\n",
        "        # 이미지 전처리\n",
        "        preprocessed_image = preprocess_image(image_path)\n",
        "\n",
        "        # 이미지 예측\n",
        "        prediction = model.predict(np.array([preprocessed_image]))\n",
        "        predicted_label = np.argmax(prediction)\n",
        "\n",
        "        # 예측 결과와 파일 이름을 리스트에 추가\n",
        "        predicted_labels.append(predicted_label)\n",
        "        file_names.append(os.path.basename(image_path))\n",
        "\n",
        "    # 예측 결과와 파일 이름을 DataFrame으로 변환\n",
        "    df = pd.DataFrame({'filename': file_names, 'label': predicted_labels})\n",
        "\n",
        "    # CSV 파일로 저장\n",
        "    output_csv_path = \"/content/drive/MyDrive/Notebooks/Datathon/predictions.csv\"\n",
        "    df.to_csv(output_csv_path, index=False)\n",
        "\n",
        "    print(\"예측 결과를 CSV 파일로 저장했습니다.\")\n",
        "\n",
        "# 모델 경로\n",
        "model_path = \"/content/drive/MyDrive/Notebooks/Datathon/all_model.h5\"\n",
        "\n",
        "# 테스트 데이터 경로\n",
        "test_data_dir = \"/content/drive/MyDrive/Notebooks/Datathon/data/TestData\"\n",
        "\n",
        "# 모델 평가 및 결과 저장\n",
        "evaluate_model(model_path, test_data_dir)\n"
      ]
    },
    {
      "cell_type": "markdown",
      "metadata": {
        "id": "wzLv-KKUE0jq"
      },
      "source": [
        "Not bad at all! This result implies that our error ranges from ~4% to ~4.4% and we should have in mind that the errors reported by state-of-the-art models and methods range from 4.9% to 1.02% ([reference](https://benchmarks.ai/svhn)). Of course, there is room for quite a bit of tuning in order to improve performance such as:\n",
        "- Change the way the images are transformed in the augmentation process.\n",
        "- Change the architecture of our model by adding extra blocks, changing the kernel sizes, making it deeper, etc.\n",
        "- Train multiple CNNs and make ensemble predictions.\n",
        "- Use some of the extra data which can be found along with the original dataset."
      ]
    },
    {
      "cell_type": "markdown",
      "metadata": {
        "id": "8ewDUb4jE0jq"
      },
      "source": [
        "## 4. Visualizations and insights"
      ]
    },
    {
      "cell_type": "markdown",
      "metadata": {
        "id": "4UBnGJcmE0jq"
      },
      "source": [
        "In this section, we can present some nice and useful visualizations which make us understand better how our Convolutional Neural Network actually works. It is my belief that the two following visualizations are the most helpful:\n",
        "\n",
        "- The **Confusion Matrix** of the model on the training data, so as to get a sense of how it performs on each class label and how the misclassifications are distributed.\n",
        "- The **Feature Maps** for a random input image, so as to get a sense of how our model learns the features in each convolutional layer."
      ]
    },
    {
      "cell_type": "code",
      "execution_count": null,
      "metadata": {
        "colab": {
          "base_uri": "https://localhost:8080/"
        },
        "id": "bFhjg9H7E0jr",
        "outputId": "f5bfffae-bf9c-423c-bb63-3f2eb204bf0d"
      },
      "outputs": [
        {
          "name": "stdout",
          "output_type": "stream",
          "text": [
            "1946/1946 [==============================] - 9s 5ms/step\n"
          ]
        }
      ],
      "source": [
        "# Get predictions and apply inverse transformation to the labels\n",
        "\n",
        "y_pred = model.predict(X_train)\n",
        "\n",
        "y_pred = lb.inverse_transform(y_pred, lb.classes_)\n",
        "y_train = lb.inverse_transform(y_train, lb.classes_)"
      ]
    },
    {
      "cell_type": "code",
      "execution_count": null,
      "metadata": {
        "colab": {
          "base_uri": "https://localhost:8080/",
          "height": 1000
        },
        "id": "qb8N6wBGE0jr",
        "outputId": "69eb04a6-aad3-4532-9873-dd05281b3683"
      },
      "outputs": [
        {
          "data": {
            "image/png": "[encoded data removed]",
            "text/plain": [
              "<Figure size 1400x1200 with 2 Axes>"
            ]
          },
          "metadata": {},
          "output_type": "display_data"
        }
      ],
      "source": [
        "# Plot the confusion matrix\n",
        "\n",
        "matrix = confusion_matrix(y_train, y_pred, labels=lb.classes_)\n",
        "\n",
        "fig, ax = plt.subplots(figsize=(14, 12))\n",
        "sns.heatmap(matrix, annot=True, cmap='Greens', fmt='d', ax=ax)\n",
        "plt.title('Confusion Matrix for training dataset')\n",
        "plt.xlabel('Predicted label')\n",
        "plt.ylabel('True label')\n",
        "plt.show()"
      ]
    },
    {
      "cell_type": "markdown",
      "metadata": {
        "id": "N_Op6JjmE0jr"
      },
      "source": [
        "As we can see, the training data consists mostly of 0s, 1s and 2s (in a descending order), while labels '5' up to '9' are underepresented. Furthermore, the confusion matrix can show us the particular problematic cases of our model."
      ]
    },
    {
      "cell_type": "markdown",
      "metadata": {
        "id": "bNaMCGkcE0jx"
      },
      "source": [
        "## 5. Conclusion"
      ]
    },
    {
      "cell_type": "markdown",
      "metadata": {
        "id": "SsgB2HCJE0jx"
      },
      "source": [
        "In this kernel, we have trained a Convolutional Neural Network to recognize the digits in the Street View House Numbers dataset (Format 2). In particular, we have performed some minimal preprocessing of the data, we have augmented the data in various ways, we have created an auxillary model in order to find which learning rate we should choose for our optimizer and finally, we have trained the final CNN and evaluated it on the test images data. Furthermore, we have provided two useful visualizations (confusion matrix and feature maps) so as get a sense of how our model actually works and not view it as just a black-box process. Finally, it should be noted that there is quite a bit of room for tuning and different architectures so as to improve the accuracy of the model; nonetheless, our results are pretty good given the simplicity of our approach.\n",
        "\n",
        "I hope you enjoyed this simple kernel and find it useful, either as a reference for your own projects or as an introduction to the complete process of training CNNs. Also, **PLEASE DO NOT FORGET TO UPVOTE!**"
      ]
    }
  ],
  "metadata": {
    "accelerator": "GPU",
    "colab": {
      "gpuType": "T4",
      "provenance": []
    },
    "kernelspec": {
      "display_name": "Python 3",
      "name": "python3"
    },
    "language_info": {
      "codemirror_mode": {
        "name": "ipython",
        "version": 3
      },
      "file_extension": ".py",
      "mimetype": "text/x-python",
      "name": "python",
      "nbconvert_exporter": "python",
      "pygments_lexer": "ipython3",
      "version": "3.8.18"
    }
  },
  "nbformat": 4,
  "nbformat_minor": 0
}
